{
 "cells": [
  {
   "cell_type": "markdown",
   "metadata": {},
   "source": [
    "# Stock value prediction from Open, High, Low"
   ]
  },
  {
   "cell_type": "markdown",
   "metadata": {
    "collapsed": true
   },
   "source": [
    "# Import module"
   ]
  },
  {
   "cell_type": "code",
   "execution_count": 1,
   "metadata": {},
   "outputs": [
    {
     "name": "stderr",
     "output_type": "stream",
     "text": [
      "Using TensorFlow backend.\n"
     ]
    }
   ],
   "source": [
    "import numpy as np\n",
    "import matplotlib.pyplot as plt\n",
    "import matplotlib.pyplot as plt2\n",
    "import pandas as pd\n",
    "from pandas import datetime\n",
    "import math, time\n",
    "import itertools\n",
    "from sklearn import preprocessing\n",
    "import datetime\n",
    "from sklearn.metrics import mean_squared_error\n",
    "from math import sqrt\n",
    "from keras.models import Sequential\n",
    "from keras.layers.core import Dense, Dropout, Activation\n",
    "from keras.layers.recurrent import LSTM\n",
    "from keras.models import load_model\n",
    "import keras\n",
    "import pandas_datareader.data as web\n",
    "import h5py"
   ]
  },
  {
   "cell_type": "markdown",
   "metadata": {},
   "source": [
    "# Input parameters "
   ]
  },
  {
   "cell_type": "code",
   "execution_count": 2,
   "metadata": {},
   "outputs": [],
   "source": [
    "stock_name = '^GSPC'\n",
    "seq_len = 22\n",
    "d = 0.2\n",
    "shape = [4, seq_len, 1] # feature, window, output\n",
    "neurons = [128, 128, 32, 1]\n",
    "epochs = 100\n",
    "\n",
    "start = datetime.datetime(2013, 1, 1)\n",
    "end = datetime.date.today()\n",
    "\n",
    "optimizer = 'RMSprop'"
   ]
  },
  {
   "cell_type": "markdown",
   "metadata": {
    "collapsed": true
   },
   "source": [
    "# 1. Download data and normalize it\n",
    "Data since 1950 to today"
   ]
  },
  {
   "cell_type": "code",
   "execution_count": 3,
   "metadata": {},
   "outputs": [],
   "source": [
    "def get_stock_data(stock_name, normalize=True):\n",
    "    \n",
    "    df = web.DataReader(stock_name, \"yahoo\", start, end)\n",
    "    df.drop(['Volume', 'Close'], 1, inplace=True)\n",
    "    \n",
    "    if normalize:\n",
    "#         yesterday_value = pd.concat([df[:1], df[:len(df)-1]], ignore_index=True)\n",
    "#         df = pd.concat([df[:]], ignore_index=True)\n",
    "#         df = df / yesterday_value\n",
    "        \n",
    "        min_max_scaler = preprocessing.MinMaxScaler()\n",
    "        df['Open'] = min_max_scaler.fit_transform(df.Open.values.reshape(-1,1))\n",
    "        df['High'] = min_max_scaler.fit_transform(df.High.values.reshape(-1,1))\n",
    "        df['Low'] = min_max_scaler.fit_transform(df.Low.values.reshape(-1,1))\n",
    "        df['Adj Close'] = min_max_scaler.fit_transform(df['Adj Close'].values.reshape(-1,1))\n",
    "    return df"
   ]
  },
  {
   "cell_type": "code",
   "execution_count": 4,
   "metadata": {},
   "outputs": [],
   "source": [
    "df = get_stock_data(stock_name, normalize=True)"
   ]
  },
  {
   "cell_type": "markdown",
   "metadata": {},
   "source": [
    "# 2. Plot out the Normalized Adjusted close price"
   ]
  },
  {
   "cell_type": "code",
   "execution_count": 5,
   "metadata": {},
   "outputs": [],
   "source": [
    "def plot_stock(stock_name):\n",
    "    df = get_stock_data(stock_name, normalize=True)\n",
    "    print(df.head())\n",
    "    plt.plot(df['Adj Close'], color='red', label='Adj Close')\n",
    "    plt.legend(loc='best')\n",
    "    plt.show()"
   ]
  },
  {
   "cell_type": "code",
   "execution_count": 6,
   "metadata": {},
   "outputs": [
    {
     "name": "stdout",
     "output_type": "stream",
     "text": [
      "                Open      High       Low  Adj Close\n",
      "Date                                               \n",
      "2012-12-31  0.000000  0.000000  0.000000   0.000000\n",
      "2013-01-02  0.018415  0.028142  0.021804   0.028664\n",
      "2013-01-03  0.046494  0.030539  0.044587   0.026251\n",
      "2013-01-04  0.044130  0.032486  0.047274   0.031868\n",
      "2013-01-07  0.049633  0.031327  0.045434   0.028244\n"
     ]
    },
    {
     "data": {
      "image/png": "[encoded data removed]",
      "text/plain": [
       "<matplotlib.figure.Figure at 0x1057a0f28>"
      ]
     },
     "metadata": {},
     "output_type": "display_data"
    }
   ],
   "source": [
    "plot_stock(stock_name)"
   ]
  },
  {
   "cell_type": "markdown",
   "metadata": {},
   "source": [
    "# 3. Set last day Adjusted Close as y"
   ]
  },
  {
   "cell_type": "code",
   "execution_count": 7,
   "metadata": {},
   "outputs": [],
   "source": [
    "def load_data(stock, seq_len):\n",
    "    amount_of_features = len(stock.columns)\n",
    "    data = stock.as_matrix() \n",
    "    sequence_length = seq_len + 1 # index starting from 0\n",
    "    result = []\n",
    "    \n",
    "    for index in range(len(data) - sequence_length): # maxmimum date = lastest date - sequence length\n",
    "        result.append(data[index: index + sequence_length]) # index : index + 22days\n",
    "    \n",
    "    result = np.array(result)\n",
    "    row = round(0.9 * result.shape[0]) # 90% split\n",
    "    \n",
    "    train = result[:int(row), :] # 90% date\n",
    "    X_train = train[:, :-1] # all data until day m\n",
    "    y_train = train[:, -1][:,-1] # day m + 1 adjusted close price\n",
    "    \n",
    "    X_test = result[int(row):, :-1]\n",
    "    y_test = result[int(row):, -1][:,-1] \n",
    "\n",
    "    X_train = np.reshape(X_train, (X_train.shape[0], X_train.shape[1], amount_of_features))\n",
    "    X_test = np.reshape(X_test, (X_test.shape[0], X_test.shape[1], amount_of_features))  \n",
    "\n",
    "    return [X_train, y_train, X_test, y_test]"
   ]
  },
  {
   "cell_type": "code",
   "execution_count": 8,
   "metadata": {},
   "outputs": [],
   "source": [
    "X_train, y_train, X_test, y_test = load_data(df, seq_len)"
   ]
  },
  {
   "cell_type": "code",
   "execution_count": 9,
   "metadata": {},
   "outputs": [
    {
     "data": {
      "text/plain": [
       "(1112, 22, 4)"
      ]
     },
     "execution_count": 9,
     "metadata": {},
     "output_type": "execute_result"
    }
   ],
   "source": [
    "X_train.shape[0], X_train.shape[1], X_train.shape[2]"
   ]
  },
  {
   "cell_type": "code",
   "execution_count": 10,
   "metadata": {},
   "outputs": [
    {
     "data": {
      "text/plain": [
       "1112"
      ]
     },
     "execution_count": 10,
     "metadata": {},
     "output_type": "execute_result"
    }
   ],
   "source": [
    "y_train.shape[0]"
   ]
  },
  {
   "cell_type": "markdown",
   "metadata": {
    "collapsed": true
   },
   "source": [
    "# 4. Buidling neural network"
   ]
  },
  {
   "cell_type": "code",
   "execution_count": 11,
   "metadata": {},
   "outputs": [],
   "source": [
    "def build_model2(layers, neurons, d):\n",
    "    model = Sequential()\n",
    "    \n",
    "    model.add(LSTM(neurons[0], input_shape=(layers[1], layers[0]), return_sequences=True))\n",
    "    model.add(Dropout(d))\n",
    "        \n",
    "    model.add(LSTM(neurons[1], input_shape=(layers[1], layers[0]), return_sequences=False))\n",
    "    model.add(Dropout(d))\n",
    "        \n",
    "    model.add(Dense(neurons[2],kernel_initializer=\"uniform\",activation='relu'))        \n",
    "    model.add(Dense(neurons[3],kernel_initializer=\"uniform\",activation='linear'))\n",
    "    # model = load_model('my_LSTM_stock_model1000.h5')\n",
    "    # adam = keras.optimizers.Adam(decay=0.2)\n",
    "    model.compile(loss='mse',optimizer=optimizer , metrics=['accuracy'])\n",
    "    model.summary()\n",
    "    return model"
   ]
  },
  {
   "cell_type": "markdown",
   "metadata": {},
   "source": [
    "# 6. Model Execution"
   ]
  },
  {
   "cell_type": "code",
   "execution_count": null,
   "metadata": {},
   "outputs": [
    {
     "name": "stdout",
     "output_type": "stream",
     "text": [
      "_________________________________________________________________\n",
      "Layer (type)                 Output Shape              Param #   \n",
      "=================================================================\n",
      "lstm_1 (LSTM)                (None, 22, 128)           68096     \n",
      "_________________________________________________________________\n",
      "dropout_1 (Dropout)          (None, 22, 128)           0         \n",
      "_________________________________________________________________\n",
      "lstm_2 (LSTM)                (None, 128)               131584    \n",
      "_________________________________________________________________\n",
      "dropout_2 (Dropout)          (None, 128)               0         \n",
      "_________________________________________________________________\n",
      "dense_1 (Dense)              (None, 32)                4128      \n",
      "_________________________________________________________________\n",
      "dense_2 (Dense)              (None, 1)                 33        \n",
      "=================================================================\n",
      "Total params: 203,841\n",
      "Trainable params: 203,841\n",
      "Non-trainable params: 0\n",
      "_________________________________________________________________\n"
     ]
    }
   ],
   "source": [
    "model = build_model2(shape, neurons, d)\n",
    "# layers = [4, 22, 1]"
   ]
  },
  {
   "cell_type": "code",
   "execution_count": null,
   "metadata": {},
   "outputs": [
    {
     "name": "stdout",
     "output_type": "stream",
     "text": [
      "Train on 1000 samples, validate on 112 samples\n",
      "Epoch 1/100\n",
      "1000/1000 [==============================] - 1s 1ms/step - loss: 0.1832 - acc: 0.0000e+00 - val_loss: 0.3532 - val_acc: 0.0000e+00\n",
      "Epoch 2/100\n",
      "1000/1000 [==============================] - 1s 685us/step - loss: 0.0619 - acc: 0.0000e+00 - val_loss: 0.0461 - val_acc: 0.0000e+00\n",
      "Epoch 3/100\n",
      "1000/1000 [==============================] - 1s 719us/step - loss: 0.0087 - acc: 0.0000e+00 - val_loss: 0.0043 - val_acc: 0.0000e+00\n",
      "Epoch 4/100\n",
      "1000/1000 [==============================] - 1s 719us/step - loss: 0.0696 - acc: 0.0000e+00 - val_loss: 0.0633 - val_acc: 0.0000e+00\n",
      "Epoch 5/100\n",
      "1000/1000 [==============================] - 1s 734us/step - loss: 0.0059 - acc: 0.0000e+00 - val_loss: 0.0591 - val_acc: 0.0000e+00\n",
      "Epoch 6/100\n",
      "1000/1000 [==============================] - 1s 698us/step - loss: 0.0047 - acc: 0.0000e+00 - val_loss: 0.0506 - val_acc: 0.0000e+00\n",
      "Epoch 7/100\n",
      "1000/1000 [==============================] - 1s 707us/step - loss: 0.0037 - acc: 0.0000e+00 - val_loss: 0.0447 - val_acc: 0.0000e+00\n",
      "Epoch 8/100\n",
      "1000/1000 [==============================] - 1s 723us/step - loss: 0.0029 - acc: 0.0000e+00 - val_loss: 0.0387 - val_acc: 0.0000e+00\n",
      "Epoch 9/100\n",
      "1000/1000 [==============================] - 1s 716us/step - loss: 0.0027 - acc: 0.0000e+00 - val_loss: 0.0459 - val_acc: 0.0000e+00\n",
      "Epoch 10/100\n",
      "1000/1000 [==============================] - 1s 715us/step - loss: 0.0103 - acc: 0.0000e+00 - val_loss: 0.1053 - val_acc: 0.0000e+00\n",
      "Epoch 11/100\n",
      "1000/1000 [==============================] - 1s 733us/step - loss: 0.0217 - acc: 0.0000e+00 - val_loss: 0.0821 - val_acc: 0.0000e+00\n",
      "Epoch 12/100\n",
      "1000/1000 [==============================] - 1s 780us/step - loss: 0.0068 - acc: 0.0000e+00 - val_loss: 0.0571 - val_acc: 0.0000e+00\n",
      "Epoch 13/100\n",
      "1000/1000 [==============================] - 1s 719us/step - loss: 0.0037 - acc: 0.0000e+00 - val_loss: 0.0470 - val_acc: 0.0000e+00\n",
      "Epoch 14/100\n",
      "1000/1000 [==============================] - 1s 723us/step - loss: 0.0029 - acc: 0.0000e+00 - val_loss: 0.0451 - val_acc: 0.0000e+00\n",
      "Epoch 15/100\n",
      "1000/1000 [==============================] - 1s 736us/step - loss: 0.0046 - acc: 0.0000e+00 - val_loss: 0.0714 - val_acc: 0.0000e+00\n",
      "Epoch 16/100\n",
      "1000/1000 [==============================] - 1s 717us/step - loss: 0.0179 - acc: 0.0000e+00 - val_loss: 0.1015 - val_acc: 0.0000e+00\n",
      "Epoch 17/100\n",
      "1000/1000 [==============================] - 1s 716us/step - loss: 0.0128 - acc: 0.0000e+00 - val_loss: 0.0651 - val_acc: 0.0000e+00\n",
      "Epoch 18/100\n",
      "1000/1000 [==============================] - 1s 727us/step - loss: 0.0042 - acc: 0.0000e+00 - val_loss: 0.0528 - val_acc: 0.0000e+00\n",
      "Epoch 19/100\n",
      "1000/1000 [==============================] - 1s 720us/step - loss: 0.0034 - acc: 0.0000e+00 - val_loss: 0.0483 - val_acc: 0.0000e+00\n",
      "Epoch 20/100\n",
      "1000/1000 [==============================] - 1s 701us/step - loss: 0.0040 - acc: 0.0000e+00 - val_loss: 0.0583 - val_acc: 0.0000e+00\n",
      "Epoch 21/100\n",
      "1000/1000 [==============================] - 1s 707us/step - loss: 0.0115 - acc: 0.0000e+00 - val_loss: 0.0937 - val_acc: 0.0000e+00\n",
      "Epoch 22/100\n",
      "1000/1000 [==============================] - 1s 727us/step - loss: 0.0131 - acc: 0.0000e+00 - val_loss: 0.0708 - val_acc: 0.0000e+00\n",
      "Epoch 23/100\n",
      "1000/1000 [==============================] - 1s 713us/step - loss: 0.0050 - acc: 0.0000e+00 - val_loss: 0.0533 - val_acc: 0.0000e+00\n",
      "Epoch 24/100\n",
      "1000/1000 [==============================] - 1s 712us/step - loss: 0.0034 - acc: 0.0000e+00 - val_loss: 0.0433 - val_acc: 0.0000e+00\n",
      "Epoch 25/100\n",
      "1000/1000 [==============================] - 1s 710us/step - loss: 0.0031 - acc: 0.0000e+00 - val_loss: 0.0527 - val_acc: 0.0000e+00\n",
      "Epoch 26/100\n",
      "1000/1000 [==============================] - 1s 718us/step - loss: 0.0100 - acc: 0.0000e+00 - val_loss: 0.0955 - val_acc: 0.0000e+00\n",
      "Epoch 27/100\n",
      "1000/1000 [==============================] - 1s 723us/step - loss: 0.0165 - acc: 0.0000e+00 - val_loss: 0.0820 - val_acc: 0.0000e+00\n",
      "Epoch 28/100\n",
      "1000/1000 [==============================] - 1s 719us/step - loss: 0.0065 - acc: 0.0000e+00 - val_loss: 0.0567 - val_acc: 0.0000e+00\n",
      "Epoch 29/100\n",
      "1000/1000 [==============================] - 1s 703us/step - loss: 0.0036 - acc: 0.0000e+00 - val_loss: 0.0471 - val_acc: 0.0000e+00\n",
      "Epoch 30/100\n",
      "1000/1000 [==============================] - 1s 695us/step - loss: 0.0034 - acc: 0.0000e+00 - val_loss: 0.0535 - val_acc: 0.0000e+00\n",
      "Epoch 31/100\n",
      "1000/1000 [==============================] - 1s 695us/step - loss: 0.0085 - acc: 0.0000e+00 - val_loss: 0.0863 - val_acc: 0.0000e+00\n",
      "Epoch 32/100\n",
      "1000/1000 [==============================] - 1s 690us/step - loss: 0.0123 - acc: 0.0000e+00 - val_loss: 0.0744 - val_acc: 0.0000e+00\n",
      "Epoch 33/100\n",
      "1000/1000 [==============================] - 1s 704us/step - loss: 0.0056 - acc: 0.0000e+00 - val_loss: 0.0570 - val_acc: 0.0000e+00\n",
      "Epoch 34/100\n",
      "1000/1000 [==============================] - 1s 699us/step - loss: 0.0045 - acc: 0.0000e+00 - val_loss: 0.0568 - val_acc: 0.0000e+00\n",
      "Epoch 35/100\n",
      "1000/1000 [==============================] - 1s 709us/step - loss: 0.0057 - acc: 0.0000e+00 - val_loss: 0.0701 - val_acc: 0.0000e+00\n",
      "Epoch 36/100\n",
      "1000/1000 [==============================] - 1s 715us/step - loss: 0.0099 - acc: 0.0000e+00 - val_loss: 0.0771 - val_acc: 0.0000e+00\n",
      "Epoch 37/100\n",
      "1000/1000 [==============================] - 1s 711us/step - loss: 0.0071 - acc: 0.0000e+00 - val_loss: 0.0610 - val_acc: 0.0000e+00\n",
      "Epoch 38/100\n",
      "1000/1000 [==============================] - 1s 680us/step - loss: 0.0048 - acc: 0.0000e+00 - val_loss: 0.0561 - val_acc: 0.0000e+00\n",
      "Epoch 39/100\n",
      "1000/1000 [==============================] - 1s 694us/step - loss: 0.0052 - acc: 0.0000e+00 - val_loss: 0.0631 - val_acc: 0.0000e+00\n",
      "Epoch 40/100\n",
      "1000/1000 [==============================] - 1s 722us/step - loss: 0.0084 - acc: 0.0000e+00 - val_loss: 0.0758 - val_acc: 0.0000e+00\n",
      "Epoch 41/100\n",
      " 512/1000 [==============>...............] - ETA: 0s - loss: 0.0091 - acc: 0.0000e+00"
     ]
    }
   ],
   "source": [
    "model.fit(\n",
    "    X_train,\n",
    "    y_train,\n",
    "    batch_size=512,\n",
    "    epochs=epochs,\n",
    "    validation_split=0.1,\n",
    "    verbose=1)"
   ]
  },
  {
   "cell_type": "markdown",
   "metadata": {},
   "source": [
    "# 7. Result on training set and testing set"
   ]
  },
  {
   "cell_type": "code",
   "execution_count": null,
   "metadata": {},
   "outputs": [],
   "source": [
    "def model_score(model, X_train, y_train, X_test, y_test):\n",
    "    trainScore = model.evaluate(X_train, y_train, verbose=0)\n",
    "    print('Train Score: %.5f MSE (%.2f RMSE)' % (trainScore[0], math.sqrt(trainScore[0])))\n",
    "\n",
    "    testScore = model.evaluate(X_test, y_test, verbose=0)\n",
    "    print('Test Score: %.5f MSE (%.2f RMSE)' % (testScore[0], math.sqrt(testScore[0])))\n",
    "    return trainScore[0], testScore[0]"
   ]
  },
  {
   "cell_type": "code",
   "execution_count": null,
   "metadata": {},
   "outputs": [],
   "source": [
    "model_score(model, X_train, y_train, X_test, y_test)"
   ]
  },
  {
   "cell_type": "markdown",
   "metadata": {},
   "source": [
    "# 8. Prediction vs Real results"
   ]
  },
  {
   "cell_type": "code",
   "execution_count": null,
   "metadata": {},
   "outputs": [],
   "source": [
    "def percentage_difference(model, X_test, y_test):\n",
    "    percentage_diff=[]\n",
    "\n",
    "    p = model.predict(X_test)\n",
    "    for u in range(len(y_test)): # for each data index in test data\n",
    "        pr = p[u][0] # pr = prediction on day u\n",
    "\n",
    "        percentage_diff.append((pr-y_test[u]/pr)*100)\n",
    "    return p"
   ]
  },
  {
   "cell_type": "code",
   "execution_count": null,
   "metadata": {},
   "outputs": [],
   "source": [
    "p = percentage_difference(model, X_test, y_test)"
   ]
  },
  {
   "cell_type": "markdown",
   "metadata": {},
   "source": [
    "# 9. Plot out prediction"
   ]
  },
  {
   "cell_type": "code",
   "execution_count": null,
   "metadata": {},
   "outputs": [],
   "source": [
    "def denormalize(stock_name, normalized_value):\n",
    "    start = datetime.datetime(2000, 1, 1)\n",
    "    end = datetime.date.today()\n",
    "    df = web.DataReader(stock_name, \"yahoo\", start, end)\n",
    "    \n",
    "    df = df['Adj Close'].values.reshape(-1,1)\n",
    "    normalized_value = normalized_value.reshape(-1,1)\n",
    "    \n",
    "    #return df.shape, p.shape\n",
    "    min_max_scaler = preprocessing.MinMaxScaler()\n",
    "    a = min_max_scaler.fit_transform(df)\n",
    "    new = min_max_scaler.inverse_transform(normalized_value)\n",
    "    return new"
   ]
  },
  {
   "cell_type": "code",
   "execution_count": null,
   "metadata": {},
   "outputs": [],
   "source": [
    "def plot_result(stock_name, normalized_value_p, normalized_value_y_test):\n",
    "    newp = denormalize(stock_name, normalized_value_p)\n",
    "    newy_test = denormalize(stock_name, normalized_value_y_test)\n",
    "    plt2.plot(newp, color='red', label='Prediction')\n",
    "    plt2.plot(newy_test,color='blue', label='Actual')\n",
    "    plt2.legend(loc='best')\n",
    "    plt2.title('The test result for {}'.format(stock_name))\n",
    "    plt2.xlabel('Days')\n",
    "    plt2.ylabel('Adjusted Close')\n",
    "\n",
    "    figname = optimizer + stock_name + '_epochs' + str(epochs) + '_' + start.strftime(\"%Y%m%d\") + '-' + end.strftime(\"%Y%m%d\") + '.png'\n",
    "    plt2.savefig(figname, format='png', bbox_inches='tight', transparent=True)\n",
    "    plt2.show()"
   ]
  },
  {
   "cell_type": "code",
   "execution_count": null,
   "metadata": {},
   "outputs": [],
   "source": [
    "plot_result(stock_name, p, y_test)"
   ]
  },
  {
   "cell_type": "markdown",
   "metadata": {},
   "source": [
    "# 10. Save for consistency"
   ]
  },
  {
   "cell_type": "code",
   "execution_count": null,
   "metadata": {},
   "outputs": [],
   "source": [
    "# model.save('LSTM_Stock_prediction-20170429.h5')"
   ]
  }
 ],
 "metadata": {
  "kernelspec": {
   "display_name": "Python 3",
   "language": "python",
   "name": "python3"
  },
  "language_info": {
   "codemirror_mode": {
    "name": "ipython",
    "version": 3
   },
   "file_extension": ".py",
   "mimetype": "text/x-python",
   "name": "python",
   "nbconvert_exporter": "python",
   "pygments_lexer": "ipython3",
   "version": "3.6.3"
  }
 },
 "nbformat": 4,
 "nbformat_minor": 2
}
