{
 "cells": [
  {
   "cell_type": "markdown",
   "metadata": {},
   "source": [
    "# Stock value prediction from Open, High, Low"
   ]
  },
  {
   "cell_type": "markdown",
   "metadata": {
    "collapsed": true
   },
   "source": [
    "# Import module"
   ]
  },
  {
   "cell_type": "code",
   "execution_count": 1,
   "metadata": {},
   "outputs": [
    {
     "name": "stderr",
     "output_type": "stream",
     "text": [
      "Using TensorFlow backend.\n"
     ]
    }
   ],
   "source": [
    "import numpy as np\n",
    "import matplotlib.pyplot as plt\n",
    "import matplotlib.pyplot as plt2\n",
    "import pandas as pd\n",
    "from pandas import datetime\n",
    "import math, time\n",
    "import itertools\n",
    "from sklearn import preprocessing\n",
    "import datetime\n",
    "from sklearn.metrics import mean_squared_error\n",
    "from math import sqrt\n",
    "from keras.models import Sequential\n",
    "from keras.layers.core import Dense, Dropout, Activation\n",
    "from keras.layers.recurrent import LSTM\n",
    "from keras.models import load_model\n",
    "import keras\n",
    "import pandas_datareader.data as web\n",
    "import h5py"
   ]
  },
  {
   "cell_type": "markdown",
   "metadata": {},
   "source": [
    "# Input parameters "
   ]
  },
  {
   "cell_type": "code",
   "execution_count": 2,
   "metadata": {},
   "outputs": [],
   "source": [
    "stock_name = '^GSPC'\n",
    "seq_len = 22\n",
    "d = 0.2\n",
    "shape = [4, seq_len, 1] # feature, window, output\n",
    "neurons = [128, 128, 32, 1]\n",
    "epochs = 150\n",
    "\n",
    "start = datetime.datetime(2013, 1, 1)\n",
    "end = datetime.date.today()\n",
    "\n",
    "optimizer = 'RMSprop'"
   ]
  },
  {
   "cell_type": "markdown",
   "metadata": {
    "collapsed": true
   },
   "source": [
    "# 1. Download data and normalize it\n",
    "Data since 1950 to today"
   ]
  },
  {
   "cell_type": "code",
   "execution_count": 3,
   "metadata": {},
   "outputs": [],
   "source": [
    "def get_stock_data(stock_name, normalize=True):\n",
    "    \n",
    "    df = web.DataReader(stock_name, \"yahoo\", start, end)\n",
    "    df.drop(['Volume', 'Close'], 1, inplace=True)\n",
    "    \n",
    "    if normalize:\n",
    "#         yesterday_value = pd.concat([df[:1], df[:len(df)-1]], ignore_index=True)\n",
    "#         df = pd.concat([df[:]], ignore_index=True)\n",
    "#         df = df / yesterday_value\n",
    "        \n",
    "        min_max_scaler = preprocessing.MinMaxScaler()\n",
    "        df['Open'] = min_max_scaler.fit_transform(df.Open.values.reshape(-1,1))\n",
    "        df['High'] = min_max_scaler.fit_transform(df.High.values.reshape(-1,1))\n",
    "        df['Low'] = min_max_scaler.fit_transform(df.Low.values.reshape(-1,1))\n",
    "        df['Adj Close'] = min_max_scaler.fit_transform(df['Adj Close'].values.reshape(-1,1))\n",
    "    return df"
   ]
  },
  {
   "cell_type": "code",
   "execution_count": 4,
   "metadata": {},
   "outputs": [],
   "source": [
    "df = get_stock_data(stock_name, normalize=True)"
   ]
  },
  {
   "cell_type": "markdown",
   "metadata": {},
   "source": [
    "# 2. Plot out the Normalized Adjusted close price"
   ]
  },
  {
   "cell_type": "code",
   "execution_count": 5,
   "metadata": {},
   "outputs": [],
   "source": [
    "def plot_stock(stock_name):\n",
    "    df = get_stock_data(stock_name, normalize=True)\n",
    "    print(df.head())\n",
    "    plt.plot(df['Adj Close'], color='red', label='Adj Close')\n",
    "    plt.legend(loc='best')\n",
    "    plt.show()"
   ]
  },
  {
   "cell_type": "code",
   "execution_count": 6,
   "metadata": {},
   "outputs": [
    {
     "name": "stdout",
     "output_type": "stream",
     "text": [
      "                Open      High       Low  Adj Close\n",
      "Date                                               \n",
      "2012-12-31  0.000000  0.000000  0.000000   0.000000\n",
      "2013-01-02  0.018415  0.028142  0.021804   0.028664\n",
      "2013-01-03  0.046494  0.030539  0.044587   0.026251\n",
      "2013-01-04  0.044130  0.032486  0.047274   0.031868\n",
      "2013-01-07  0.049633  0.031327  0.045434   0.028244\n"
     ]
    },
    {
     "data": {
      "image/png": "[encoded data removed]",
      "text/plain": [
       "<matplotlib.figure.Figure at 0x11a1d9fd0>"
      ]
     },
     "metadata": {},
     "output_type": "display_data"
    }
   ],
   "source": [
    "plot_stock(stock_name)"
   ]
  },
  {
   "cell_type": "markdown",
   "metadata": {},
   "source": [
    "# 3. Set last day Adjusted Close as y"
   ]
  },
  {
   "cell_type": "code",
   "execution_count": 7,
   "metadata": {},
   "outputs": [],
   "source": [
    "def load_data(stock, seq_len):\n",
    "    amount_of_features = len(stock.columns)\n",
    "    data = stock.as_matrix() \n",
    "    sequence_length = seq_len + 1 # index starting from 0\n",
    "    result = []\n",
    "    \n",
    "    for index in range(len(data) - sequence_length): # maxmimum date = lastest date - sequence length\n",
    "        result.append(data[index: index + sequence_length]) # index : index + 22days\n",
    "    \n",
    "    result = np.array(result)\n",
    "    row = round(0.9 * result.shape[0]) # 90% split\n",
    "    \n",
    "    train = result[:int(row), :] # 90% date\n",
    "    X_train = train[:, :-1] # all data until day m\n",
    "    y_train = train[:, -1][:,-1] # day m + 1 adjusted close price\n",
    "    \n",
    "    X_test = result[int(row):, :-1]\n",
    "    y_test = result[int(row):, -1][:,-1] \n",
    "\n",
    "    X_train = np.reshape(X_train, (X_train.shape[0], X_train.shape[1], amount_of_features))\n",
    "    X_test = np.reshape(X_test, (X_test.shape[0], X_test.shape[1], amount_of_features))  \n",
    "\n",
    "    return [X_train, y_train, X_test, y_test]"
   ]
  },
  {
   "cell_type": "code",
   "execution_count": 8,
   "metadata": {},
   "outputs": [],
   "source": [
    "X_train, y_train, X_test, y_test = load_data(df, seq_len)"
   ]
  },
  {
   "cell_type": "code",
   "execution_count": 9,
   "metadata": {},
   "outputs": [
    {
     "data": {
      "text/plain": [
       "(1112, 22, 4)"
      ]
     },
     "execution_count": 9,
     "metadata": {},
     "output_type": "execute_result"
    }
   ],
   "source": [
    "X_train.shape[0], X_train.shape[1], X_train.shape[2]"
   ]
  },
  {
   "cell_type": "code",
   "execution_count": 10,
   "metadata": {},
   "outputs": [
    {
     "data": {
      "text/plain": [
       "1112"
      ]
     },
     "execution_count": 10,
     "metadata": {},
     "output_type": "execute_result"
    }
   ],
   "source": [
    "y_train.shape[0]"
   ]
  },
  {
   "cell_type": "markdown",
   "metadata": {
    "collapsed": true
   },
   "source": [
    "# 4. Buidling neural network"
   ]
  },
  {
   "cell_type": "code",
   "execution_count": 11,
   "metadata": {},
   "outputs": [],
   "source": [
    "def build_model2(layers, neurons, d):\n",
    "    model = Sequential()\n",
    "    \n",
    "    model.add(LSTM(neurons[0], input_shape=(layers[1], layers[0]), return_sequences=True))\n",
    "    model.add(Dropout(d))\n",
    "        \n",
    "    model.add(LSTM(neurons[1], input_shape=(layers[1], layers[0]), return_sequences=False))\n",
    "    model.add(Dropout(d))\n",
    "        \n",
    "    model.add(Dense(neurons[2],kernel_initializer=\"uniform\",activation='relu'))        \n",
    "    model.add(Dense(neurons[3],kernel_initializer=\"uniform\",activation='linear'))\n",
    "    # model = load_model('my_LSTM_stock_model1000.h5')\n",
    "    # adam = keras.optimizers.Adam(decay=0.2)\n",
    "    model.compile(loss='mse',optimizer=optimizer , metrics=['accuracy'])\n",
    "    model.summary()\n",
    "    return model"
   ]
  },
  {
   "cell_type": "markdown",
   "metadata": {},
   "source": [
    "# 6. Model Execution"
   ]
  },
  {
   "cell_type": "code",
   "execution_count": 12,
   "metadata": {},
   "outputs": [
    {
     "name": "stdout",
     "output_type": "stream",
     "text": [
      "_________________________________________________________________\n",
      "Layer (type)                 Output Shape              Param #   \n",
      "=================================================================\n",
      "lstm_1 (LSTM)                (None, 22, 128)           68096     \n",
      "_________________________________________________________________\n",
      "dropout_1 (Dropout)          (None, 22, 128)           0         \n",
      "_________________________________________________________________\n",
      "lstm_2 (LSTM)                (None, 128)               131584    \n",
      "_________________________________________________________________\n",
      "dropout_2 (Dropout)          (None, 128)               0         \n",
      "_________________________________________________________________\n",
      "dense_1 (Dense)              (None, 32)                4128      \n",
      "_________________________________________________________________\n",
      "dense_2 (Dense)              (None, 1)                 33        \n",
      "=================================================================\n",
      "Total params: 203,841\n",
      "Trainable params: 203,841\n",
      "Non-trainable params: 0\n",
      "_________________________________________________________________\n"
     ]
    }
   ],
   "source": [
    "model = build_model2(shape, neurons, d)\n",
    "# layers = [4, 22, 1]"
   ]
  },
  {
   "cell_type": "code",
   "execution_count": 13,
   "metadata": {},
   "outputs": [
    {
     "name": "stdout",
     "output_type": "stream",
     "text": [
      "Train on 1000 samples, validate on 112 samples\n",
      "Epoch 1/150\n",
      "1000/1000 [==============================] - 1s 1ms/step - loss: 0.1867 - acc: 0.0000e+00 - val_loss: 0.4537 - val_acc: 0.0000e+00\n",
      "Epoch 2/150\n",
      "1000/1000 [==============================] - 1s 698us/step - loss: 0.1051 - acc: 0.0000e+00 - val_loss: 0.0719 - val_acc: 0.0000e+00\n",
      "Epoch 3/150\n",
      "1000/1000 [==============================] - 1s 693us/step - loss: 0.0189 - acc: 0.0000e+00 - val_loss: 0.0635 - val_acc: 0.0000e+00\n",
      "Epoch 4/150\n",
      "1000/1000 [==============================] - 1s 756us/step - loss: 0.0110 - acc: 0.0000e+00 - val_loss: 0.0372 - val_acc: 0.0000e+00\n",
      "Epoch 5/150\n",
      "1000/1000 [==============================] - 1s 737us/step - loss: 0.0168 - acc: 0.0000e+00 - val_loss: 0.0309 - val_acc: 0.0000e+00\n",
      "Epoch 6/150\n",
      "1000/1000 [==============================] - 1s 725us/step - loss: 0.0171 - acc: 0.0000e+00 - val_loss: 0.0628 - val_acc: 0.0000e+00\n",
      "Epoch 7/150\n",
      "1000/1000 [==============================] - 1s 730us/step - loss: 0.0059 - acc: 0.0000e+00 - val_loss: 0.0507 - val_acc: 0.0000e+00\n",
      "Epoch 8/150\n",
      "1000/1000 [==============================] - 1s 717us/step - loss: 0.0036 - acc: 0.0000e+00 - val_loss: 0.0359 - val_acc: 0.0000e+00\n",
      "Epoch 9/150\n",
      "1000/1000 [==============================] - 1s 742us/step - loss: 0.0058 - acc: 0.0000e+00 - val_loss: 0.0095 - val_acc: 0.0000e+00\n",
      "Epoch 10/150\n",
      "1000/1000 [==============================] - 1s 723us/step - loss: 0.0270 - acc: 0.0000e+00 - val_loss: 0.0471 - val_acc: 0.0000e+00\n",
      "Epoch 11/150\n",
      "1000/1000 [==============================] - 1s 695us/step - loss: 0.0070 - acc: 0.0000e+00 - val_loss: 0.0576 - val_acc: 0.0000e+00\n",
      "Epoch 12/150\n",
      "1000/1000 [==============================] - 1s 738us/step - loss: 0.0039 - acc: 0.0000e+00 - val_loss: 0.0475 - val_acc: 0.0000e+00\n",
      "Epoch 13/150\n",
      "1000/1000 [==============================] - 1s 747us/step - loss: 0.0030 - acc: 0.0000e+00 - val_loss: 0.0436 - val_acc: 0.0000e+00\n",
      "Epoch 14/150\n",
      "1000/1000 [==============================] - 1s 755us/step - loss: 0.0032 - acc: 0.0000e+00 - val_loss: 0.0485 - val_acc: 0.0000e+00\n",
      "Epoch 15/150\n",
      "1000/1000 [==============================] - 1s 779us/step - loss: 0.0097 - acc: 0.0000e+00 - val_loss: 0.0938 - val_acc: 0.0000e+00\n",
      "Epoch 16/150\n",
      "1000/1000 [==============================] - 1s 728us/step - loss: 0.0179 - acc: 0.0000e+00 - val_loss: 0.0749 - val_acc: 0.0000e+00\n",
      "Epoch 17/150\n",
      "1000/1000 [==============================] - 1s 720us/step - loss: 0.0050 - acc: 0.0000e+00 - val_loss: 0.0534 - val_acc: 0.0000e+00\n",
      "Epoch 18/150\n",
      "1000/1000 [==============================] - 1s 731us/step - loss: 0.0035 - acc: 0.0000e+00 - val_loss: 0.0493 - val_acc: 0.0000e+00\n",
      "Epoch 19/150\n",
      "1000/1000 [==============================] - 1s 752us/step - loss: 0.0034 - acc: 0.0000e+00 - val_loss: 0.0500 - val_acc: 0.0000e+00\n",
      "Epoch 20/150\n",
      "1000/1000 [==============================] - 1s 782us/step - loss: 0.0054 - acc: 0.0000e+00 - val_loss: 0.0672 - val_acc: 0.0000e+00\n",
      "Epoch 21/150\n",
      "1000/1000 [==============================] - 1s 743us/step - loss: 0.0126 - acc: 0.0000e+00 - val_loss: 0.0805 - val_acc: 0.0000e+00\n",
      "Epoch 22/150\n",
      "1000/1000 [==============================] - 1s 769us/step - loss: 0.0078 - acc: 0.0000e+00 - val_loss: 0.0607 - val_acc: 0.0000e+00\n",
      "Epoch 23/150\n",
      "1000/1000 [==============================] - 1s 741us/step - loss: 0.0038 - acc: 0.0000e+00 - val_loss: 0.0471 - val_acc: 0.0000e+00\n",
      "Epoch 24/150\n",
      "1000/1000 [==============================] - 1s 723us/step - loss: 0.0031 - acc: 0.0000e+00 - val_loss: 0.0469 - val_acc: 0.0000e+00\n",
      "Epoch 25/150\n",
      "1000/1000 [==============================] - 1s 811us/step - loss: 0.0054 - acc: 0.0000e+00 - val_loss: 0.0695 - val_acc: 0.0000e+00\n",
      "Epoch 26/150\n",
      "1000/1000 [==============================] - 1s 758us/step - loss: 0.0127 - acc: 0.0000e+00 - val_loss: 0.0785 - val_acc: 0.0000e+00\n",
      "Epoch 27/150\n",
      "1000/1000 [==============================] - 1s 741us/step - loss: 0.0064 - acc: 0.0000e+00 - val_loss: 0.0564 - val_acc: 0.0000e+00\n",
      "Epoch 28/150\n",
      "1000/1000 [==============================] - 1s 762us/step - loss: 0.0036 - acc: 0.0000e+00 - val_loss: 0.0516 - val_acc: 0.0000e+00\n",
      "Epoch 29/150\n",
      "1000/1000 [==============================] - 1s 768us/step - loss: 0.0040 - acc: 0.0000e+00 - val_loss: 0.0575 - val_acc: 0.0000e+00\n",
      "Epoch 30/150\n",
      "1000/1000 [==============================] - 1s 785us/step - loss: 0.0086 - acc: 0.0000e+00 - val_loss: 0.0765 - val_acc: 0.0000e+00\n",
      "Epoch 31/150\n",
      "1000/1000 [==============================] - 1s 757us/step - loss: 0.0102 - acc: 0.0000e+00 - val_loss: 0.0693 - val_acc: 0.0000e+00\n",
      "Epoch 32/150\n",
      "1000/1000 [==============================] - 1s 701us/step - loss: 0.0048 - acc: 0.0000e+00 - val_loss: 0.0492 - val_acc: 0.0000e+00\n",
      "Epoch 33/150\n",
      "1000/1000 [==============================] - 1s 729us/step - loss: 0.0032 - acc: 0.0000e+00 - val_loss: 0.0439 - val_acc: 0.0000e+00\n",
      "Epoch 34/150\n",
      "1000/1000 [==============================] - 1s 701us/step - loss: 0.0030 - acc: 0.0000e+00 - val_loss: 0.0477 - val_acc: 0.0000e+00\n",
      "Epoch 35/150\n",
      "1000/1000 [==============================] - 1s 699us/step - loss: 0.0072 - acc: 0.0000e+00 - val_loss: 0.0784 - val_acc: 0.0000e+00\n",
      "Epoch 36/150\n",
      "1000/1000 [==============================] - 1s 715us/step - loss: 0.0123 - acc: 0.0000e+00 - val_loss: 0.0688 - val_acc: 0.0000e+00\n",
      "Epoch 37/150\n",
      "1000/1000 [==============================] - 1s 766us/step - loss: 0.0045 - acc: 0.0000e+00 - val_loss: 0.0491 - val_acc: 0.0000e+00\n",
      "Epoch 38/150\n",
      "1000/1000 [==============================] - 1s 731us/step - loss: 0.0031 - acc: 0.0000e+00 - val_loss: 0.0434 - val_acc: 0.0000e+00\n",
      "Epoch 39/150\n",
      "1000/1000 [==============================] - 1s 771us/step - loss: 0.0034 - acc: 0.0000e+00 - val_loss: 0.0541 - val_acc: 0.0000e+00\n",
      "Epoch 40/150\n",
      "1000/1000 [==============================] - 1s 762us/step - loss: 0.0102 - acc: 0.0000e+00 - val_loss: 0.0761 - val_acc: 0.0000e+00\n",
      "Epoch 41/150\n",
      "1000/1000 [==============================] - 1s 767us/step - loss: 0.0082 - acc: 0.0000e+00 - val_loss: 0.0586 - val_acc: 0.0000e+00\n",
      "Epoch 42/150\n",
      "1000/1000 [==============================] - 1s 774us/step - loss: 0.0040 - acc: 0.0000e+00 - val_loss: 0.0475 - val_acc: 0.0000e+00\n",
      "Epoch 43/150\n",
      "1000/1000 [==============================] - 1s 757us/step - loss: 0.0031 - acc: 0.0000e+00 - val_loss: 0.0457 - val_acc: 0.0000e+00\n",
      "Epoch 44/150\n",
      "1000/1000 [==============================] - 1s 751us/step - loss: 0.0050 - acc: 0.0000e+00 - val_loss: 0.0658 - val_acc: 0.0000e+00\n",
      "Epoch 45/150\n",
      "1000/1000 [==============================] - 1s 769us/step - loss: 0.0116 - acc: 0.0000e+00 - val_loss: 0.0717 - val_acc: 0.0000e+00\n",
      "Epoch 46/150\n",
      "1000/1000 [==============================] - 1s 775us/step - loss: 0.0060 - acc: 0.0000e+00 - val_loss: 0.0543 - val_acc: 0.0000e+00\n",
      "Epoch 47/150\n",
      "1000/1000 [==============================] - 1s 779us/step - loss: 0.0035 - acc: 0.0000e+00 - val_loss: 0.0451 - val_acc: 0.0000e+00\n",
      "Epoch 48/150\n",
      "1000/1000 [==============================] - 1s 741us/step - loss: 0.0031 - acc: 0.0000e+00 - val_loss: 0.0467 - val_acc: 0.0000e+00\n",
      "Epoch 49/150\n",
      "1000/1000 [==============================] - 1s 783us/step - loss: 0.0051 - acc: 0.0000e+00 - val_loss: 0.0617 - val_acc: 0.0000e+00\n",
      "Epoch 50/150\n",
      "1000/1000 [==============================] - 1s 754us/step - loss: 0.0104 - acc: 0.0000e+00 - val_loss: 0.0717 - val_acc: 0.0000e+00\n",
      "Epoch 51/150\n",
      "1000/1000 [==============================] - 1s 763us/step - loss: 0.0066 - acc: 0.0000e+00 - val_loss: 0.0534 - val_acc: 0.0000e+00\n",
      "Epoch 52/150\n",
      "1000/1000 [==============================] - 1s 755us/step - loss: 0.0034 - acc: 0.0000e+00 - val_loss: 0.0449 - val_acc: 0.0000e+00\n",
      "Epoch 53/150\n",
      "1000/1000 [==============================] - 1s 776us/step - loss: 0.0028 - acc: 0.0000e+00 - val_loss: 0.0389 - val_acc: 0.0000e+00\n",
      "Epoch 54/150\n",
      "1000/1000 [==============================] - 1s 750us/step - loss: 0.0032 - acc: 0.0000e+00 - val_loss: 0.0490 - val_acc: 0.0000e+00\n",
      "Epoch 55/150\n",
      "1000/1000 [==============================] - 1s 735us/step - loss: 0.0085 - acc: 0.0000e+00 - val_loss: 0.0730 - val_acc: 0.0000e+00\n",
      "Epoch 56/150\n",
      "1000/1000 [==============================] - 1s 752us/step - loss: 0.0099 - acc: 0.0000e+00 - val_loss: 0.0639 - val_acc: 0.0000e+00\n"
     ]
    },
    {
     "name": "stdout",
     "output_type": "stream",
     "text": [
      "Epoch 57/150\n",
      "1000/1000 [==============================] - 1s 802us/step - loss: 0.0046 - acc: 0.0000e+00 - val_loss: 0.0473 - val_acc: 0.0000e+00\n",
      "Epoch 58/150\n",
      "1000/1000 [==============================] - 1s 778us/step - loss: 0.0029 - acc: 0.0000e+00 - val_loss: 0.0404 - val_acc: 0.0000e+00\n",
      "Epoch 59/150\n",
      "1000/1000 [==============================] - 1s 768us/step - loss: 0.0026 - acc: 0.0000e+00 - val_loss: 0.0397 - val_acc: 0.0000e+00\n",
      "Epoch 60/150\n",
      "1000/1000 [==============================] - 1s 771us/step - loss: 0.0050 - acc: 0.0000e+00 - val_loss: 0.0655 - val_acc: 0.0000e+00\n",
      "Epoch 61/150\n",
      "1000/1000 [==============================] - 1s 772us/step - loss: 0.0120 - acc: 0.0000e+00 - val_loss: 0.0707 - val_acc: 0.0000e+00\n",
      "Epoch 62/150\n",
      "1000/1000 [==============================] - 1s 785us/step - loss: 0.0055 - acc: 0.0000e+00 - val_loss: 0.0467 - val_acc: 0.0000e+00\n",
      "Epoch 63/150\n",
      "1000/1000 [==============================] - 1s 795us/step - loss: 0.0028 - acc: 0.0000e+00 - val_loss: 0.0372 - val_acc: 0.0000e+00\n",
      "Epoch 64/150\n",
      "1000/1000 [==============================] - 1s 799us/step - loss: 0.0025 - acc: 0.0000e+00 - val_loss: 0.0345 - val_acc: 0.0000e+00\n",
      "Epoch 65/150\n",
      "1000/1000 [==============================] - 1s 786us/step - loss: 0.0026 - acc: 0.0000e+00 - val_loss: 0.0422 - val_acc: 0.0000e+00\n",
      "Epoch 66/150\n",
      "1000/1000 [==============================] - 1s 750us/step - loss: 0.0071 - acc: 0.0000e+00 - val_loss: 0.0711 - val_acc: 0.0000e+00\n",
      "Epoch 67/150\n",
      "1000/1000 [==============================] - 1s 796us/step - loss: 0.0115 - acc: 0.0000e+00 - val_loss: 0.0617 - val_acc: 0.0000e+00\n",
      "Epoch 68/150\n",
      "1000/1000 [==============================] - 1s 760us/step - loss: 0.0045 - acc: 0.0000e+00 - val_loss: 0.0437 - val_acc: 0.0000e+00\n",
      "Epoch 69/150\n",
      "1000/1000 [==============================] - 1s 774us/step - loss: 0.0027 - acc: 0.0000e+00 - val_loss: 0.0361 - val_acc: 0.0000e+00\n",
      "Epoch 70/150\n",
      "1000/1000 [==============================] - 1s 753us/step - loss: 0.0023 - acc: 0.0000e+00 - val_loss: 0.0338 - val_acc: 0.0000e+00\n",
      "Epoch 71/150\n",
      "1000/1000 [==============================] - 1s 749us/step - loss: 0.0031 - acc: 0.0000e+00 - val_loss: 0.0508 - val_acc: 0.0000e+00\n",
      "Epoch 72/150\n",
      "1000/1000 [==============================] - 1s 751us/step - loss: 0.0087 - acc: 0.0000e+00 - val_loss: 0.0705 - val_acc: 0.0000e+00\n",
      "Epoch 73/150\n",
      "1000/1000 [==============================] - 1s 817us/step - loss: 0.0073 - acc: 0.0000e+00 - val_loss: 0.0528 - val_acc: 0.0000e+00\n",
      "Epoch 74/150\n",
      "1000/1000 [==============================] - 1s 748us/step - loss: 0.0036 - acc: 0.0000e+00 - val_loss: 0.0431 - val_acc: 0.0000e+00\n",
      "Epoch 75/150\n",
      "1000/1000 [==============================] - 1s 772us/step - loss: 0.0026 - acc: 0.0000e+00 - val_loss: 0.0357 - val_acc: 0.0000e+00\n",
      "Epoch 76/150\n",
      "1000/1000 [==============================] - 1s 799us/step - loss: 0.0025 - acc: 0.0000e+00 - val_loss: 0.0390 - val_acc: 0.0000e+00\n",
      "Epoch 77/150\n",
      "1000/1000 [==============================] - 1s 765us/step - loss: 0.0050 - acc: 0.0000e+00 - val_loss: 0.0621 - val_acc: 0.0000e+00\n",
      "Epoch 78/150\n",
      "1000/1000 [==============================] - 1s 791us/step - loss: 0.0112 - acc: 0.0000e+00 - val_loss: 0.0635 - val_acc: 0.0000e+00\n",
      "Epoch 79/150\n",
      "1000/1000 [==============================] - 1s 822us/step - loss: 0.0051 - acc: 0.0000e+00 - val_loss: 0.0412 - val_acc: 0.0000e+00\n",
      "Epoch 80/150\n",
      "1000/1000 [==============================] - 1s 766us/step - loss: 0.0027 - acc: 0.0000e+00 - val_loss: 0.0375 - val_acc: 0.0000e+00\n",
      "Epoch 81/150\n",
      "1000/1000 [==============================] - 1s 804us/step - loss: 0.0026 - acc: 0.0000e+00 - val_loss: 0.0393 - val_acc: 0.0000e+00\n",
      "Epoch 82/150\n",
      "1000/1000 [==============================] - 1s 744us/step - loss: 0.0042 - acc: 0.0000e+00 - val_loss: 0.0544 - val_acc: 0.0000e+00\n",
      "Epoch 83/150\n",
      "1000/1000 [==============================] - 1s 771us/step - loss: 0.0074 - acc: 0.0000e+00 - val_loss: 0.0584 - val_acc: 0.0000e+00\n",
      "Epoch 84/150\n",
      "1000/1000 [==============================] - 1s 747us/step - loss: 0.0057 - acc: 0.0000e+00 - val_loss: 0.0490 - val_acc: 0.0000e+00\n",
      "Epoch 85/150\n",
      "1000/1000 [==============================] - 1s 801us/step - loss: 0.0037 - acc: 0.0000e+00 - val_loss: 0.0432 - val_acc: 0.0000e+00\n",
      "Epoch 86/150\n",
      "1000/1000 [==============================] - 1s 684us/step - loss: 0.0038 - acc: 0.0000e+00 - val_loss: 0.0473 - val_acc: 0.0000e+00\n",
      "Epoch 87/150\n",
      "1000/1000 [==============================] - 1s 696us/step - loss: 0.0050 - acc: 0.0000e+00 - val_loss: 0.0522 - val_acc: 0.0000e+00\n",
      "Epoch 88/150\n",
      "1000/1000 [==============================] - 1s 741us/step - loss: 0.0055 - acc: 0.0000e+00 - val_loss: 0.0511 - val_acc: 0.0000e+00\n",
      "Epoch 89/150\n",
      "1000/1000 [==============================] - 1s 743us/step - loss: 0.0046 - acc: 0.0000e+00 - val_loss: 0.0495 - val_acc: 0.0000e+00\n",
      "Epoch 90/150\n",
      "1000/1000 [==============================] - 1s 782us/step - loss: 0.0042 - acc: 0.0000e+00 - val_loss: 0.0422 - val_acc: 0.0000e+00\n",
      "Epoch 91/150\n",
      "1000/1000 [==============================] - 1s 756us/step - loss: 0.0033 - acc: 0.0000e+00 - val_loss: 0.0409 - val_acc: 0.0000e+00\n",
      "Epoch 92/150\n",
      "1000/1000 [==============================] - 1s 768us/step - loss: 0.0040 - acc: 0.0000e+00 - val_loss: 0.0504 - val_acc: 0.0000e+00\n",
      "Epoch 93/150\n",
      "1000/1000 [==============================] - 1s 768us/step - loss: 0.0067 - acc: 0.0000e+00 - val_loss: 0.0565 - val_acc: 0.0000e+00\n",
      "Epoch 94/150\n",
      "1000/1000 [==============================] - 1s 768us/step - loss: 0.0065 - acc: 0.0000e+00 - val_loss: 0.0539 - val_acc: 0.0000e+00\n",
      "Epoch 95/150\n",
      "1000/1000 [==============================] - 1s 714us/step - loss: 0.0041 - acc: 0.0000e+00 - val_loss: 0.0369 - val_acc: 0.0000e+00\n",
      "Epoch 96/150\n",
      "1000/1000 [==============================] - 1s 775us/step - loss: 0.0024 - acc: 0.0000e+00 - val_loss: 0.0343 - val_acc: 0.0000e+00\n",
      "Epoch 97/150\n",
      "1000/1000 [==============================] - 1s 778us/step - loss: 0.0022 - acc: 0.0000e+00 - val_loss: 0.0299 - val_acc: 0.0000e+00\n",
      "Epoch 98/150\n",
      "1000/1000 [==============================] - 1s 769us/step - loss: 0.0026 - acc: 0.0000e+00 - val_loss: 0.0408 - val_acc: 0.0000e+00\n",
      "Epoch 99/150\n",
      "1000/1000 [==============================] - 1s 765us/step - loss: 0.0084 - acc: 0.0000e+00 - val_loss: 0.0691 - val_acc: 0.0000e+00\n",
      "Epoch 100/150\n",
      "1000/1000 [==============================] - 1s 734us/step - loss: 0.0084 - acc: 0.0000e+00 - val_loss: 0.0444 - val_acc: 0.0000e+00\n",
      "Epoch 101/150\n",
      "1000/1000 [==============================] - 1s 706us/step - loss: 0.0030 - acc: 0.0000e+00 - val_loss: 0.0365 - val_acc: 0.0000e+00\n",
      "Epoch 102/150\n",
      "1000/1000 [==============================] - 1s 691us/step - loss: 0.0027 - acc: 0.0000e+00 - val_loss: 0.0342 - val_acc: 0.0000e+00\n",
      "Epoch 103/150\n",
      "1000/1000 [==============================] - 1s 776us/step - loss: 0.0026 - acc: 0.0000e+00 - val_loss: 0.0320 - val_acc: 0.0000e+00\n",
      "Epoch 104/150\n",
      "1000/1000 [==============================] - 1s 828us/step - loss: 0.0028 - acc: 0.0000e+00 - val_loss: 0.0393 - val_acc: 0.0000e+00\n",
      "Epoch 105/150\n",
      "1000/1000 [==============================] - 1s 780us/step - loss: 0.0057 - acc: 0.0000e+00 - val_loss: 0.0573 - val_acc: 0.0000e+00\n",
      "Epoch 106/150\n",
      "1000/1000 [==============================] - 1s 810us/step - loss: 0.0068 - acc: 0.0000e+00 - val_loss: 0.0456 - val_acc: 0.0000e+00\n",
      "Epoch 107/150\n",
      "1000/1000 [==============================] - 1s 751us/step - loss: 0.0035 - acc: 0.0000e+00 - val_loss: 0.0367 - val_acc: 0.0000e+00\n",
      "Epoch 108/150\n",
      "1000/1000 [==============================] - 1s 804us/step - loss: 0.0029 - acc: 0.0000e+00 - val_loss: 0.0354 - val_acc: 0.0000e+00\n",
      "Epoch 109/150\n",
      "1000/1000 [==============================] - 1s 775us/step - loss: 0.0038 - acc: 0.0000e+00 - val_loss: 0.0468 - val_acc: 0.0000e+00\n",
      "Epoch 110/150\n",
      "1000/1000 [==============================] - 1s 808us/step - loss: 0.0058 - acc: 0.0000e+00 - val_loss: 0.0495 - val_acc: 0.0000e+00\n",
      "Epoch 111/150\n",
      "1000/1000 [==============================] - 1s 784us/step - loss: 0.0045 - acc: 0.0000e+00 - val_loss: 0.0412 - val_acc: 0.0000e+00\n",
      "Epoch 112/150\n",
      "1000/1000 [==============================] - 1s 833us/step - loss: 0.0034 - acc: 0.0000e+00 - val_loss: 0.0369 - val_acc: 0.0000e+00\n",
      "Epoch 113/150\n"
     ]
    },
    {
     "name": "stdout",
     "output_type": "stream",
     "text": [
      "1000/1000 [==============================] - 1s 795us/step - loss: 0.0033 - acc: 0.0000e+00 - val_loss: 0.0384 - val_acc: 0.0000e+00\n",
      "Epoch 114/150\n",
      "1000/1000 [==============================] - 1s 749us/step - loss: 0.0043 - acc: 0.0000e+00 - val_loss: 0.0461 - val_acc: 0.0000e+00\n",
      "Epoch 115/150\n",
      "1000/1000 [==============================] - 1s 719us/step - loss: 0.0056 - acc: 0.0000e+00 - val_loss: 0.0473 - val_acc: 0.0000e+00\n",
      "Epoch 116/150\n",
      "1000/1000 [==============================] - 1s 687us/step - loss: 0.0040 - acc: 0.0000e+00 - val_loss: 0.0365 - val_acc: 0.0000e+00\n",
      "Epoch 117/150\n",
      "1000/1000 [==============================] - 1s 688us/step - loss: 0.0033 - acc: 0.0000e+00 - val_loss: 0.0431 - val_acc: 0.0000e+00\n",
      "Epoch 118/150\n",
      "1000/1000 [==============================] - 1s 681us/step - loss: 0.0047 - acc: 0.0000e+00 - val_loss: 0.0440 - val_acc: 0.0000e+00\n",
      "Epoch 119/150\n",
      "1000/1000 [==============================] - 1s 690us/step - loss: 0.0044 - acc: 0.0000e+00 - val_loss: 0.0417 - val_acc: 0.0000e+00\n",
      "Epoch 120/150\n",
      "1000/1000 [==============================] - 1s 689us/step - loss: 0.0036 - acc: 0.0000e+00 - val_loss: 0.0361 - val_acc: 0.0000e+00\n",
      "Epoch 121/150\n",
      "1000/1000 [==============================] - 1s 689us/step - loss: 0.0031 - acc: 0.0000e+00 - val_loss: 0.0375 - val_acc: 0.0000e+00\n",
      "Epoch 122/150\n",
      "1000/1000 [==============================] - 1s 693us/step - loss: 0.0040 - acc: 0.0000e+00 - val_loss: 0.0459 - val_acc: 0.0000e+00\n",
      "Epoch 123/150\n",
      "1000/1000 [==============================] - 1s 824us/step - loss: 0.0055 - acc: 0.0000e+00 - val_loss: 0.0464 - val_acc: 0.0000e+00\n",
      "Epoch 124/150\n",
      "1000/1000 [==============================] - 1s 742us/step - loss: 0.0043 - acc: 0.0000e+00 - val_loss: 0.0381 - val_acc: 0.0000e+00\n",
      "Epoch 125/150\n",
      "1000/1000 [==============================] - 1s 837us/step - loss: 0.0031 - acc: 0.0000e+00 - val_loss: 0.0344 - val_acc: 0.0000e+00\n",
      "Epoch 126/150\n",
      "1000/1000 [==============================] - 1s 760us/step - loss: 0.0030 - acc: 0.0000e+00 - val_loss: 0.0366 - val_acc: 0.0000e+00\n",
      "Epoch 127/150\n",
      "1000/1000 [==============================] - 1s 830us/step - loss: 0.0042 - acc: 0.0000e+00 - val_loss: 0.0457 - val_acc: 0.0000e+00\n",
      "Epoch 128/150\n",
      "1000/1000 [==============================] - 1s 776us/step - loss: 0.0055 - acc: 0.0000e+00 - val_loss: 0.0466 - val_acc: 0.0000e+00\n",
      "Epoch 129/150\n",
      "1000/1000 [==============================] - 1s 753us/step - loss: 0.0044 - acc: 0.0000e+00 - val_loss: 0.0387 - val_acc: 0.0000e+00\n",
      "Epoch 130/150\n",
      "1000/1000 [==============================] - 1s 778us/step - loss: 0.0033 - acc: 0.0000e+00 - val_loss: 0.0335 - val_acc: 0.0000e+00\n",
      "Epoch 131/150\n",
      "1000/1000 [==============================] - 1s 729us/step - loss: 0.0032 - acc: 0.0000e+00 - val_loss: 0.0373 - val_acc: 0.0000e+00\n",
      "Epoch 132/150\n",
      "1000/1000 [==============================] - 1s 745us/step - loss: 0.0043 - acc: 0.0000e+00 - val_loss: 0.0432 - val_acc: 0.0000e+00\n",
      "Epoch 133/150\n",
      "1000/1000 [==============================] - 1s 778us/step - loss: 0.0040 - acc: 0.0000e+00 - val_loss: 0.0357 - val_acc: 0.0000e+00\n",
      "Epoch 134/150\n",
      "1000/1000 [==============================] - 1s 753us/step - loss: 0.0035 - acc: 0.0000e+00 - val_loss: 0.0398 - val_acc: 0.0000e+00\n",
      "Epoch 135/150\n",
      "1000/1000 [==============================] - 1s 738us/step - loss: 0.0043 - acc: 0.0000e+00 - val_loss: 0.0422 - val_acc: 0.0000e+00\n",
      "Epoch 136/150\n",
      "1000/1000 [==============================] - 1s 761us/step - loss: 0.0047 - acc: 0.0000e+00 - val_loss: 0.0408 - val_acc: 0.0000e+00\n",
      "Epoch 137/150\n",
      "1000/1000 [==============================] - 1s 732us/step - loss: 0.0039 - acc: 0.0000e+00 - val_loss: 0.0347 - val_acc: 0.0000e+00\n",
      "Epoch 138/150\n",
      "1000/1000 [==============================] - 1s 715us/step - loss: 0.0029 - acc: 0.0000e+00 - val_loss: 0.0287 - val_acc: 0.0000e+00\n",
      "Epoch 139/150\n",
      "1000/1000 [==============================] - 1s 688us/step - loss: 0.0024 - acc: 0.0000e+00 - val_loss: 0.0277 - val_acc: 0.0000e+00\n",
      "Epoch 140/150\n",
      "1000/1000 [==============================] - 1s 743us/step - loss: 0.0031 - acc: 0.0000e+00 - val_loss: 0.0398 - val_acc: 0.0000e+00\n",
      "Epoch 141/150\n",
      "1000/1000 [==============================] - 1s 753us/step - loss: 0.0055 - acc: 0.0000e+00 - val_loss: 0.0474 - val_acc: 0.0000e+00\n",
      "Epoch 142/150\n",
      "1000/1000 [==============================] - 1s 761us/step - loss: 0.0054 - acc: 0.0000e+00 - val_loss: 0.0397 - val_acc: 0.0000e+00\n",
      "Epoch 143/150\n",
      "1000/1000 [==============================] - 1s 752us/step - loss: 0.0035 - acc: 0.0000e+00 - val_loss: 0.0304 - val_acc: 0.0000e+00\n",
      "Epoch 144/150\n",
      "1000/1000 [==============================] - 1s 809us/step - loss: 0.0024 - acc: 0.0000e+00 - val_loss: 0.0273 - val_acc: 0.0000e+00\n",
      "Epoch 145/150\n",
      "1000/1000 [==============================] - 1s 794us/step - loss: 0.0024 - acc: 0.0000e+00 - val_loss: 0.0286 - val_acc: 0.0000e+00\n",
      "Epoch 146/150\n",
      "1000/1000 [==============================] - 1s 783us/step - loss: 0.0033 - acc: 0.0000e+00 - val_loss: 0.0412 - val_acc: 0.0000e+00\n",
      "Epoch 147/150\n",
      "1000/1000 [==============================] - 1s 752us/step - loss: 0.0057 - acc: 0.0000e+00 - val_loss: 0.0457 - val_acc: 0.0000e+00\n",
      "Epoch 148/150\n",
      "1000/1000 [==============================] - 1s 776us/step - loss: 0.0044 - acc: 0.0000e+00 - val_loss: 0.0333 - val_acc: 0.0000e+00\n",
      "Epoch 149/150\n",
      "1000/1000 [==============================] - 1s 780us/step - loss: 0.0025 - acc: 0.0000e+00 - val_loss: 0.0253 - val_acc: 0.0000e+00\n",
      "Epoch 150/150\n",
      "1000/1000 [==============================] - 1s 751us/step - loss: 0.0023 - acc: 0.0000e+00 - val_loss: 0.0270 - val_acc: 0.0000e+00\n"
     ]
    },
    {
     "data": {
      "text/plain": [
       "<keras.callbacks.History at 0x1a2823e668>"
      ]
     },
     "execution_count": 13,
     "metadata": {},
     "output_type": "execute_result"
    }
   ],
   "source": [
    "model.fit(\n",
    "    X_train,\n",
    "    y_train,\n",
    "    batch_size=512,\n",
    "    epochs=epochs,\n",
    "    validation_split=0.1,\n",
    "    verbose=1)"
   ]
  },
  {
   "cell_type": "markdown",
   "metadata": {},
   "source": [
    "# 7. Result on training set and testing set"
   ]
  },
  {
   "cell_type": "code",
   "execution_count": 14,
   "metadata": {},
   "outputs": [],
   "source": [
    "def model_score(model, X_train, y_train, X_test, y_test):\n",
    "    trainScore = model.evaluate(X_train, y_train, verbose=0)\n",
    "    print('Train Score: %.5f MSE (%.2f RMSE)' % (trainScore[0], math.sqrt(trainScore[0])))\n",
    "\n",
    "    testScore = model.evaluate(X_test, y_test, verbose=0)\n",
    "    print('Test Score: %.5f MSE (%.2f RMSE)' % (testScore[0], math.sqrt(testScore[0])))\n",
    "    return trainScore[0], testScore[0]"
   ]
  },
  {
   "cell_type": "code",
   "execution_count": 15,
   "metadata": {},
   "outputs": [
    {
     "name": "stdout",
     "output_type": "stream",
     "text": [
      "Train Score: 0.00491 MSE (0.07 RMSE)\n",
      "Test Score: 0.07013 MSE (0.26 RMSE)\n"
     ]
    },
    {
     "data": {
      "text/plain": [
       "(0.0049084834097013579, 0.070133029203104783)"
      ]
     },
     "execution_count": 15,
     "metadata": {},
     "output_type": "execute_result"
    }
   ],
   "source": [
    "model_score(model, X_train, y_train, X_test, y_test)"
   ]
  },
  {
   "cell_type": "markdown",
   "metadata": {},
   "source": [
    "# 8. Prediction vs Real results"
   ]
  },
  {
   "cell_type": "code",
   "execution_count": 16,
   "metadata": {},
   "outputs": [],
   "source": [
    "def percentage_difference(model, X_test, y_test):\n",
    "    percentage_diff=[]\n",
    "\n",
    "    p = model.predict(X_test)\n",
    "    for u in range(len(y_test)): # for each data index in test data\n",
    "        pr = p[u][0] # pr = prediction on day u\n",
    "\n",
    "        percentage_diff.append((pr-y_test[u]/pr)*100)\n",
    "    return p"
   ]
  },
  {
   "cell_type": "code",
   "execution_count": 17,
   "metadata": {},
   "outputs": [],
   "source": [
    "p = percentage_difference(model, X_test, y_test)"
   ]
  },
  {
   "cell_type": "markdown",
   "metadata": {},
   "source": [
    "# 9. Plot out prediction"
   ]
  },
  {
   "cell_type": "code",
   "execution_count": 18,
   "metadata": {},
   "outputs": [],
   "source": [
    "def denormalize(stock_name, normalized_value):\n",
    "    start = datetime.datetime(2000, 1, 1)\n",
    "    end = datetime.date.today()\n",
    "    df = web.DataReader(stock_name, \"yahoo\", start, end)\n",
    "    \n",
    "    df = df['Adj Close'].values.reshape(-1,1)\n",
    "    normalized_value = normalized_value.reshape(-1,1)\n",
    "    \n",
    "    #return df.shape, p.shape\n",
    "    min_max_scaler = preprocessing.MinMaxScaler()\n",
    "    a = min_max_scaler.fit_transform(df)\n",
    "    new = min_max_scaler.inverse_transform(normalized_value)\n",
    "    return new"
   ]
  },
  {
   "cell_type": "code",
   "execution_count": 19,
   "metadata": {},
   "outputs": [],
   "source": [
    "def plot_result(stock_name, normalized_value_p, normalized_value_y_test):\n",
    "    newp = denormalize(stock_name, normalized_value_p)\n",
    "    newy_test = denormalize(stock_name, normalized_value_y_test)\n",
    "    plt2.plot(newp, color='red', label='Prediction')\n",
    "    plt2.plot(newy_test,color='blue', label='Actual')\n",
    "    plt2.legend(loc='best')\n",
    "    plt2.title('The test result for {}'.format(stock_name))\n",
    "    plt2.xlabel('Days')\n",
    "    plt2.ylabel('Adjusted Close')\n",
    "\n",
    "    figname = optimizer + stock_name + '_epochs' + str(epochs) + '_' + start.strftime(\"%Y%m%d\") + '-' + end.strftime(\"%Y%m%d\") + '.png'\n",
    "    plt2.savefig(figname, format='png', bbox_inches='tight', transparent=True)\n",
    "    plt2.show()"
   ]
  },
  {
   "cell_type": "code",
   "execution_count": 20,
   "metadata": {},
   "outputs": [
    {
     "data": {
      "image/png": "[encoded data removed]",
      "text/plain": [
       "<matplotlib.figure.Figure at 0x1a2823e940>"
      ]
     },
     "metadata": {},
     "output_type": "display_data"
    }
   ],
   "source": [
    "plot_result(stock_name, p, y_test)"
   ]
  },
  {
   "cell_type": "markdown",
   "metadata": {},
   "source": [
    "# 10. Save for consistency"
   ]
  },
  {
   "cell_type": "code",
   "execution_count": 21,
   "metadata": {},
   "outputs": [],
   "source": [
    "# model.save('LSTM_Stock_prediction-20170429.h5')"
   ]
  },
  {
   "cell_type": "markdown",
   "metadata": {},
   "source": [
    "# Part 2. Fine tune model\n",
    "# 11. Function to load data, train model and see score"
   ]
  },
  {
   "cell_type": "code",
   "execution_count": 22,
   "metadata": {},
   "outputs": [],
   "source": [
    "stock_name = '^GSPC'\n",
    "seq_len = 22\n",
    "shape = [4, seq_len, 1] # feature, window, output\n",
    "neurons = [128, 128, 32, 1]\n",
    "epochs = 300"
   ]
  },
  {
   "cell_type": "code",
   "execution_count": 23,
   "metadata": {},
   "outputs": [],
   "source": [
    "def quick_measure(stock_name, seq_len, d, shape, neurons, epochs):\n",
    "    df = get_stock_data(stock_name)\n",
    "    X_train, y_train, X_test, y_test = load_data(df, seq_len)\n",
    "    model = build_model2(shape, neurons, d)\n",
    "    model.fit(X_train, y_train, batch_size=512, epochs=epochs, validation_split=0.1, verbose=1)\n",
    "    # model.save('LSTM_Stock_prediction-20170429.h5')\n",
    "    trainScore, testScore = model_score(model, X_train, y_train, X_test, y_test)\n",
    "    return trainScore, testScore"
   ]
  },
  {
   "cell_type": "markdown",
   "metadata": {},
   "source": [
    "# 12. Fine tune hyperparameter"
   ]
  },
  {
   "cell_type": "markdown",
   "metadata": {},
   "source": [
    "12.1 Optimial Dropout value"
   ]
  },
  {
   "cell_type": "code",
   "execution_count": 24,
   "metadata": {},
   "outputs": [
    {
     "name": "stdout",
     "output_type": "stream",
     "text": [
      "_________________________________________________________________\n",
      "Layer (type)                 Output Shape              Param #   \n",
      "=================================================================\n",
      "lstm_3 (LSTM)                (None, 22, 128)           68096     \n",
      "_________________________________________________________________\n",
      "dropout_3 (Dropout)          (None, 22, 128)           0         \n",
      "_________________________________________________________________\n",
      "lstm_4 (LSTM)                (None, 128)               131584    \n",
      "_________________________________________________________________\n",
      "dropout_4 (Dropout)          (None, 128)               0         \n",
      "_________________________________________________________________\n",
      "dense_3 (Dense)              (None, 32)                4128      \n",
      "_________________________________________________________________\n",
      "dense_4 (Dense)              (None, 1)                 33        \n",
      "=================================================================\n",
      "Total params: 203,841\n",
      "Trainable params: 203,841\n",
      "Non-trainable params: 0\n",
      "_________________________________________________________________\n",
      "Train on 1000 samples, validate on 112 samples\n",
      "Epoch 1/300\n",
      "1000/1000 [==============================] - 1s 1ms/step - loss: 0.1818 - acc: 0.0000e+00 - val_loss: 0.3273 - val_acc: 0.0000e+00\n",
      "Epoch 2/300\n",
      "1000/1000 [==============================] - 1s 699us/step - loss: 0.0570 - acc: 0.0000e+00 - val_loss: 0.1191 - val_acc: 0.0000e+00\n",
      "Epoch 3/300\n",
      "1000/1000 [==============================] - 1s 702us/step - loss: 0.0264 - acc: 0.0000e+00 - val_loss: 0.1713 - val_acc: 0.0000e+00\n",
      "Epoch 4/300\n",
      "1000/1000 [==============================] - 1s 694us/step - loss: 0.0235 - acc: 0.0000e+00 - val_loss: 0.0735 - val_acc: 0.0000e+00\n",
      "Epoch 5/300\n",
      "1000/1000 [==============================] - 1s 702us/step - loss: 0.0063 - acc: 0.0000e+00 - val_loss: 0.0564 - val_acc: 0.0000e+00\n",
      "Epoch 6/300\n",
      "1000/1000 [==============================] - 1s 693us/step - loss: 0.0043 - acc: 0.0000e+00 - val_loss: 0.0472 - val_acc: 0.0000e+00\n",
      "Epoch 7/300\n",
      "1000/1000 [==============================] - 1s 703us/step - loss: 0.0032 - acc: 0.0000e+00 - val_loss: 0.0410 - val_acc: 0.0000e+00\n",
      "Epoch 8/300\n",
      "1000/1000 [==============================] - 1s 711us/step - loss: 0.0041 - acc: 0.0000e+00 - val_loss: 0.0961 - val_acc: 0.0000e+00\n",
      "Epoch 9/300\n",
      "1000/1000 [==============================] - 1s 714us/step - loss: 0.0297 - acc: 0.0000e+00 - val_loss: 0.1122 - val_acc: 0.0000e+00\n",
      "Epoch 10/300\n",
      "1000/1000 [==============================] - 1s 706us/step - loss: 0.0129 - acc: 0.0000e+00 - val_loss: 0.0613 - val_acc: 0.0000e+00\n",
      "Epoch 11/300\n",
      "1000/1000 [==============================] - 1s 708us/step - loss: 0.0042 - acc: 0.0000e+00 - val_loss: 0.0495 - val_acc: 0.0000e+00\n",
      "Epoch 12/300\n",
      "1000/1000 [==============================] - 1s 711us/step - loss: 0.0033 - acc: 0.0000e+00 - val_loss: 0.0440 - val_acc: 0.0000e+00\n",
      "Epoch 13/300\n",
      "1000/1000 [==============================] - 1s 706us/step - loss: 0.0029 - acc: 0.0000e+00 - val_loss: 0.0425 - val_acc: 0.0000e+00\n",
      "Epoch 14/300\n",
      "1000/1000 [==============================] - 1s 895us/step - loss: 0.0048 - acc: 0.0000e+00 - val_loss: 0.0773 - val_acc: 0.0000e+00\n",
      "Epoch 15/300\n",
      "1000/1000 [==============================] - 1s 789us/step - loss: 0.0185 - acc: 0.0000e+00 - val_loss: 0.0912 - val_acc: 0.0000e+00\n",
      "Epoch 16/300\n",
      "1000/1000 [==============================] - 1s 720us/step - loss: 0.0102 - acc: 0.0000e+00 - val_loss: 0.0607 - val_acc: 0.0000e+00\n",
      "Epoch 17/300\n",
      "1000/1000 [==============================] - 1s 712us/step - loss: 0.0044 - acc: 0.0000e+00 - val_loss: 0.0494 - val_acc: 0.0000e+00\n",
      "Epoch 18/300\n",
      "1000/1000 [==============================] - 1s 709us/step - loss: 0.0034 - acc: 0.0000e+00 - val_loss: 0.0456 - val_acc: 0.0000e+00\n",
      "Epoch 19/300\n",
      "1000/1000 [==============================] - 1s 719us/step - loss: 0.0039 - acc: 0.0000e+00 - val_loss: 0.0567 - val_acc: 0.0000e+00\n",
      "Epoch 20/300\n",
      "1000/1000 [==============================] - 1s 718us/step - loss: 0.0105 - acc: 0.0000e+00 - val_loss: 0.0863 - val_acc: 0.0000e+00\n",
      "Epoch 21/300\n",
      "1000/1000 [==============================] - 1s 698us/step - loss: 0.0126 - acc: 0.0000e+00 - val_loss: 0.0700 - val_acc: 0.0000e+00\n",
      "Epoch 22/300\n",
      "1000/1000 [==============================] - 1s 723us/step - loss: 0.0054 - acc: 0.0000e+00 - val_loss: 0.0538 - val_acc: 0.0000e+00\n",
      "Epoch 23/300\n",
      "1000/1000 [==============================] - 1s 745us/step - loss: 0.0036 - acc: 0.0000e+00 - val_loss: 0.0484 - val_acc: 0.0000e+00\n",
      "Epoch 24/300\n",
      "1000/1000 [==============================] - 1s 732us/step - loss: 0.0039 - acc: 0.0000e+00 - val_loss: 0.0544 - val_acc: 0.0000e+00\n",
      "Epoch 25/300\n",
      "1000/1000 [==============================] - 1s 706us/step - loss: 0.0081 - acc: 0.0000e+00 - val_loss: 0.0827 - val_acc: 0.0000e+00\n",
      "Epoch 26/300\n",
      "1000/1000 [==============================] - 1s 727us/step - loss: 0.0124 - acc: 0.0000e+00 - val_loss: 0.0734 - val_acc: 0.0000e+00\n",
      "Epoch 27/300\n",
      "1000/1000 [==============================] - 1s 760us/step - loss: 0.0062 - acc: 0.0000e+00 - val_loss: 0.0549 - val_acc: 0.0000e+00\n",
      "Epoch 28/300\n",
      "1000/1000 [==============================] - 1s 786us/step - loss: 0.0035 - acc: 0.0000e+00 - val_loss: 0.0459 - val_acc: 0.0000e+00\n",
      "Epoch 29/300\n",
      "1000/1000 [==============================] - 1s 844us/step - loss: 0.0036 - acc: 0.0000e+00 - val_loss: 0.0531 - val_acc: 0.0000e+00\n",
      "Epoch 30/300\n",
      "1000/1000 [==============================] - 1s 757us/step - loss: 0.0082 - acc: 0.0000e+00 - val_loss: 0.0794 - val_acc: 0.0000e+00\n",
      "Epoch 31/300\n",
      "1000/1000 [==============================] - 1s 753us/step - loss: 0.0114 - acc: 0.0000e+00 - val_loss: 0.0708 - val_acc: 0.0000e+00\n",
      "Epoch 32/300\n",
      "1000/1000 [==============================] - 1s 798us/step - loss: 0.0056 - acc: 0.0000e+00 - val_loss: 0.0517 - val_acc: 0.0000e+00\n",
      "Epoch 33/300\n",
      "1000/1000 [==============================] - 1s 873us/step - loss: 0.0031 - acc: 0.0000e+00 - val_loss: 0.0420 - val_acc: 0.0000e+00\n",
      "Epoch 34/300\n",
      "1000/1000 [==============================] - 1s 728us/step - loss: 0.0027 - acc: 0.0000e+00 - val_loss: 0.0430 - val_acc: 0.0000e+00\n",
      "Epoch 35/300\n",
      "1000/1000 [==============================] - 1s 785us/step - loss: 0.0054 - acc: 0.0000e+00 - val_loss: 0.0774 - val_acc: 0.0000e+00\n",
      "Epoch 36/300\n",
      "1000/1000 [==============================] - 1s 766us/step - loss: 0.0176 - acc: 0.0000e+00 - val_loss: 0.0866 - val_acc: 0.0000e+00\n",
      "Epoch 37/300\n",
      "1000/1000 [==============================] - 1s 765us/step - loss: 0.0071 - acc: 0.0000e+00 - val_loss: 0.0503 - val_acc: 0.0000e+00\n",
      "Epoch 38/300\n",
      "1000/1000 [==============================] - 1s 793us/step - loss: 0.0032 - acc: 0.0000e+00 - val_loss: 0.0424 - val_acc: 0.0000e+00\n",
      "Epoch 39/300\n",
      "1000/1000 [==============================] - 1s 787us/step - loss: 0.0028 - acc: 0.0000e+00 - val_loss: 0.0392 - val_acc: 0.0000e+00\n",
      "Epoch 40/300\n",
      "1000/1000 [==============================] - 1s 835us/step - loss: 0.0030 - acc: 0.0000e+00 - val_loss: 0.0471 - val_acc: 0.0000e+00\n",
      "Epoch 41/300\n",
      "1000/1000 [==============================] - 1s 836us/step - loss: 0.0084 - acc: 0.0000e+00 - val_loss: 0.0802 - val_acc: 0.0000e+00\n",
      "Epoch 42/300\n",
      "1000/1000 [==============================] - 1s 816us/step - loss: 0.0113 - acc: 0.0000e+00 - val_loss: 0.0653 - val_acc: 0.0000e+00\n",
      "Epoch 43/300\n",
      "1000/1000 [==============================] - 1s 773us/step - loss: 0.0045 - acc: 0.0000e+00 - val_loss: 0.0447 - val_acc: 0.0000e+00\n",
      "Epoch 44/300\n",
      "1000/1000 [==============================] - 1s 808us/step - loss: 0.0029 - acc: 0.0000e+00 - val_loss: 0.0359 - val_acc: 0.0000e+00\n",
      "Epoch 45/300\n",
      "1000/1000 [==============================] - 1s 832us/step - loss: 0.0025 - acc: 0.0000e+00 - val_loss: 0.0316 - val_acc: 0.0000e+00\n",
      "Epoch 46/300\n",
      "1000/1000 [==============================] - 1s 826us/step - loss: 0.0023 - acc: 0.0000e+00 - val_loss: 0.0363 - val_acc: 0.0000e+00\n",
      "Epoch 47/300\n",
      "1000/1000 [==============================] - 1s 1ms/step - loss: 0.0071 - acc: 0.0000e+00 - val_loss: 0.0908 - val_acc: 0.0000e+00\n",
      "Epoch 48/300\n",
      "1000/1000 [==============================] - 1s 911us/step - loss: 0.0161 - acc: 0.0000e+00 - val_loss: 0.0706 - val_acc: 0.0000e+00\n",
      "Epoch 49/300\n"
     ]
    },
    {
     "name": "stdout",
     "output_type": "stream",
     "text": [
      "1000/1000 [==============================] - 1s 994us/step - loss: 0.0055 - acc: 0.0000e+00 - val_loss: 0.0506 - val_acc: 0.0000e+00\n",
      "Epoch 50/300\n",
      "1000/1000 [==============================] - 1s 914us/step - loss: 0.0032 - acc: 0.0000e+00 - val_loss: 0.0428 - val_acc: 0.0000e+00\n",
      "Epoch 51/300\n",
      "1000/1000 [==============================] - 1s 915us/step - loss: 0.0030 - acc: 0.0000e+00 - val_loss: 0.0457 - val_acc: 0.0000e+00\n",
      "Epoch 52/300\n",
      "1000/1000 [==============================] - 1s 860us/step - loss: 0.0051 - acc: 0.0000e+00 - val_loss: 0.0657 - val_acc: 0.0000e+00\n",
      "Epoch 53/300\n",
      "1000/1000 [==============================] - 1s 865us/step - loss: 0.0100 - acc: 0.0000e+00 - val_loss: 0.0679 - val_acc: 0.0000e+00\n",
      "Epoch 54/300\n",
      "1000/1000 [==============================] - 1s 840us/step - loss: 0.0068 - acc: 0.0000e+00 - val_loss: 0.0564 - val_acc: 0.0000e+00\n",
      "Epoch 55/300\n",
      "1000/1000 [==============================] - 1s 867us/step - loss: 0.0041 - acc: 0.0000e+00 - val_loss: 0.0473 - val_acc: 0.0000e+00\n",
      "Epoch 56/300\n",
      "1000/1000 [==============================] - 1s 868us/step - loss: 0.0037 - acc: 0.0000e+00 - val_loss: 0.0481 - val_acc: 0.0000e+00\n",
      "Epoch 57/300\n",
      "1000/1000 [==============================] - 1s 858us/step - loss: 0.0053 - acc: 0.0000e+00 - val_loss: 0.0617 - val_acc: 0.0000e+00\n",
      "Epoch 58/300\n",
      "1000/1000 [==============================] - 1s 969us/step - loss: 0.0085 - acc: 0.0000e+00 - val_loss: 0.0677 - val_acc: 0.0000e+00\n",
      "Epoch 59/300\n",
      "1000/1000 [==============================] - 1s 976us/step - loss: 0.0078 - acc: 0.0000e+00 - val_loss: 0.0593 - val_acc: 0.0000e+00\n",
      "Epoch 60/300\n",
      "1000/1000 [==============================] - 1s 857us/step - loss: 0.0044 - acc: 0.0000e+00 - val_loss: 0.0475 - val_acc: 0.0000e+00\n",
      "Epoch 61/300\n",
      "1000/1000 [==============================] - 1s 922us/step - loss: 0.0036 - acc: 0.0000e+00 - val_loss: 0.0463 - val_acc: 0.0000e+00\n",
      "Epoch 62/300\n",
      "1000/1000 [==============================] - 1s 864us/step - loss: 0.0048 - acc: 0.0000e+00 - val_loss: 0.0564 - val_acc: 0.0000e+00\n",
      "Epoch 63/300\n",
      "1000/1000 [==============================] - 1s 867us/step - loss: 0.0081 - acc: 0.0000e+00 - val_loss: 0.0670 - val_acc: 0.0000e+00\n",
      "Epoch 64/300\n",
      "1000/1000 [==============================] - 1s 821us/step - loss: 0.0073 - acc: 0.0000e+00 - val_loss: 0.0545 - val_acc: 0.0000e+00\n",
      "Epoch 65/300\n",
      "1000/1000 [==============================] - 1s 975us/step - loss: 0.0045 - acc: 0.0000e+00 - val_loss: 0.0480 - val_acc: 0.0000e+00\n",
      "Epoch 66/300\n",
      "1000/1000 [==============================] - 1s 822us/step - loss: 0.0036 - acc: 0.0000e+00 - val_loss: 0.0446 - val_acc: 0.0000e+00\n",
      "Epoch 67/300\n",
      "1000/1000 [==============================] - 1s 862us/step - loss: 0.0039 - acc: 0.0000e+00 - val_loss: 0.0522 - val_acc: 0.0000e+00\n",
      "Epoch 68/300\n",
      "1000/1000 [==============================] - 1s 921us/step - loss: 0.0067 - acc: 0.0000e+00 - val_loss: 0.0635 - val_acc: 0.0000e+00\n",
      "Epoch 69/300\n",
      "1000/1000 [==============================] - 1s 812us/step - loss: 0.0068 - acc: 0.0000e+00 - val_loss: 0.0526 - val_acc: 0.0000e+00\n",
      "Epoch 70/300\n",
      "1000/1000 [==============================] - 1s 901us/step - loss: 0.0041 - acc: 0.0000e+00 - val_loss: 0.0464 - val_acc: 0.0000e+00\n",
      "Epoch 71/300\n",
      "1000/1000 [==============================] - 1s 811us/step - loss: 0.0037 - acc: 0.0000e+00 - val_loss: 0.0512 - val_acc: 0.0000e+00\n",
      "Epoch 72/300\n",
      "1000/1000 [==============================] - 1s 777us/step - loss: 0.0059 - acc: 0.0000e+00 - val_loss: 0.0605 - val_acc: 0.0000e+00\n",
      "Epoch 73/300\n",
      "1000/1000 [==============================] - 1s 760us/step - loss: 0.0064 - acc: 0.0000e+00 - val_loss: 0.0535 - val_acc: 0.0000e+00\n",
      "Epoch 74/300\n",
      "1000/1000 [==============================] - 1s 766us/step - loss: 0.0049 - acc: 0.0000e+00 - val_loss: 0.0503 - val_acc: 0.0000e+00\n",
      "Epoch 75/300\n",
      "1000/1000 [==============================] - 1s 745us/step - loss: 0.0045 - acc: 0.0000e+00 - val_loss: 0.0490 - val_acc: 0.0000e+00\n",
      "Epoch 76/300\n",
      "1000/1000 [==============================] - 1s 714us/step - loss: 0.0050 - acc: 0.0000e+00 - val_loss: 0.0530 - val_acc: 0.0000e+00\n",
      "Epoch 77/300\n",
      "1000/1000 [==============================] - 1s 715us/step - loss: 0.0056 - acc: 0.0000e+00 - val_loss: 0.0549 - val_acc: 0.0000e+00\n",
      "Epoch 78/300\n",
      "1000/1000 [==============================] - 1s 826us/step - loss: 0.0055 - acc: 0.0000e+00 - val_loss: 0.0524 - val_acc: 0.0000e+00\n",
      "Epoch 79/300\n",
      "1000/1000 [==============================] - 1s 735us/step - loss: 0.0055 - acc: 0.0000e+00 - val_loss: 0.0537 - val_acc: 0.0000e+00\n",
      "Epoch 80/300\n",
      "1000/1000 [==============================] - 1s 747us/step - loss: 0.0052 - acc: 0.0000e+00 - val_loss: 0.0537 - val_acc: 0.0000e+00\n",
      "Epoch 81/300\n",
      "1000/1000 [==============================] - 1s 713us/step - loss: 0.0050 - acc: 0.0000e+00 - val_loss: 0.0510 - val_acc: 0.0000e+00\n",
      "Epoch 82/300\n",
      "1000/1000 [==============================] - 1s 763us/step - loss: 0.0038 - acc: 0.0000e+00 - val_loss: 0.0432 - val_acc: 0.0000e+00\n",
      "Epoch 83/300\n",
      "1000/1000 [==============================] - 1s 779us/step - loss: 0.0034 - acc: 0.0000e+00 - val_loss: 0.0447 - val_acc: 0.0000e+00\n",
      "Epoch 84/300\n",
      "1000/1000 [==============================] - 1s 744us/step - loss: 0.0049 - acc: 0.0000e+00 - val_loss: 0.0575 - val_acc: 0.0000e+00\n",
      "Epoch 85/300\n",
      "1000/1000 [==============================] - 1s 763us/step - loss: 0.0067 - acc: 0.0000e+00 - val_loss: 0.0562 - val_acc: 0.0000e+00\n",
      "Epoch 86/300\n",
      "1000/1000 [==============================] - 1s 791us/step - loss: 0.0061 - acc: 0.0000e+00 - val_loss: 0.0576 - val_acc: 0.0000e+00\n",
      "Epoch 87/300\n",
      "1000/1000 [==============================] - 1s 788us/step - loss: 0.0058 - acc: 0.0000e+00 - val_loss: 0.0517 - val_acc: 0.0000e+00\n",
      "Epoch 88/300\n",
      "1000/1000 [==============================] - 1s 763us/step - loss: 0.0040 - acc: 0.0000e+00 - val_loss: 0.0421 - val_acc: 0.0000e+00\n",
      "Epoch 89/300\n",
      "1000/1000 [==============================] - 1s 756us/step - loss: 0.0029 - acc: 0.0000e+00 - val_loss: 0.0393 - val_acc: 0.0000e+00\n",
      "Epoch 90/300\n",
      "1000/1000 [==============================] - 1s 743us/step - loss: 0.0031 - acc: 0.0000e+00 - val_loss: 0.0428 - val_acc: 0.0000e+00\n",
      "Epoch 91/300\n",
      "1000/1000 [==============================] - 1s 725us/step - loss: 0.0053 - acc: 0.0000e+00 - val_loss: 0.0590 - val_acc: 0.0000e+00\n",
      "Epoch 92/300\n",
      "1000/1000 [==============================] - 1s 724us/step - loss: 0.0075 - acc: 0.0000e+00 - val_loss: 0.0562 - val_acc: 0.0000e+00\n",
      "Epoch 93/300\n",
      "1000/1000 [==============================] - 1s 737us/step - loss: 0.0050 - acc: 0.0000e+00 - val_loss: 0.0463 - val_acc: 0.0000e+00\n",
      "Epoch 94/300\n",
      "1000/1000 [==============================] - 1s 783us/step - loss: 0.0033 - acc: 0.0000e+00 - val_loss: 0.0382 - val_acc: 0.0000e+00\n",
      "Epoch 95/300\n",
      "1000/1000 [==============================] - 1s 719us/step - loss: 0.0032 - acc: 0.0000e+00 - val_loss: 0.0419 - val_acc: 0.0000e+00\n",
      "Epoch 96/300\n",
      "1000/1000 [==============================] - 1s 789us/step - loss: 0.0048 - acc: 0.0000e+00 - val_loss: 0.0545 - val_acc: 0.0000e+00\n",
      "Epoch 97/300\n",
      "1000/1000 [==============================] - 1s 798us/step - loss: 0.0073 - acc: 0.0000e+00 - val_loss: 0.0566 - val_acc: 0.0000e+00\n",
      "Epoch 98/300\n",
      "1000/1000 [==============================] - 1s 775us/step - loss: 0.0055 - acc: 0.0000e+00 - val_loss: 0.0461 - val_acc: 0.0000e+00\n",
      "Epoch 99/300\n",
      "1000/1000 [==============================] - 1s 778us/step - loss: 0.0033 - acc: 0.0000e+00 - val_loss: 0.0353 - val_acc: 0.0000e+00\n",
      "Epoch 100/300\n",
      "1000/1000 [==============================] - 1s 730us/step - loss: 0.0025 - acc: 0.0000e+00 - val_loss: 0.0344 - val_acc: 0.0000e+00\n",
      "Epoch 101/300\n",
      "1000/1000 [==============================] - 1s 758us/step - loss: 0.0036 - acc: 0.0000e+00 - val_loss: 0.0480 - val_acc: 0.0000e+00\n",
      "Epoch 102/300\n",
      "1000/1000 [==============================] - 1s 774us/step - loss: 0.0073 - acc: 0.0000e+00 - val_loss: 0.0592 - val_acc: 0.0000e+00\n",
      "Epoch 103/300\n",
      "1000/1000 [==============================] - 1s 751us/step - loss: 0.0069 - acc: 0.0000e+00 - val_loss: 0.0493 - val_acc: 0.0000e+00\n",
      "Epoch 104/300\n"
     ]
    },
    {
     "ename": "KeyboardInterrupt",
     "evalue": "",
     "output_type": "error",
     "traceback": [
      "\u001b[0;31m---------------------------------------------------------------------------\u001b[0m",
      "\u001b[0;31mKeyboardInterrupt\u001b[0m                         Traceback (most recent call last)",
      "\u001b[0;32m<ipython-input-24-53597ff55d8f>\u001b[0m in \u001b[0;36m<module>\u001b[0;34m()\u001b[0m\n\u001b[1;32m      4\u001b[0m \u001b[0;34m\u001b[0m\u001b[0m\n\u001b[1;32m      5\u001b[0m \u001b[0;32mfor\u001b[0m \u001b[0md\u001b[0m \u001b[0;32min\u001b[0m \u001b[0mdlist\u001b[0m\u001b[0;34m:\u001b[0m\u001b[0;34m\u001b[0m\u001b[0m\n\u001b[0;32m----> 6\u001b[0;31m     \u001b[0mtrainScore\u001b[0m\u001b[0;34m,\u001b[0m \u001b[0mtestScore\u001b[0m \u001b[0;34m=\u001b[0m \u001b[0mquick_measure\u001b[0m\u001b[0;34m(\u001b[0m\u001b[0mstock_name\u001b[0m\u001b[0;34m,\u001b[0m \u001b[0mseq_len\u001b[0m\u001b[0;34m,\u001b[0m \u001b[0md\u001b[0m\u001b[0;34m,\u001b[0m \u001b[0mshape\u001b[0m\u001b[0;34m,\u001b[0m \u001b[0mneurons\u001b[0m\u001b[0;34m,\u001b[0m \u001b[0mepochs\u001b[0m\u001b[0;34m)\u001b[0m\u001b[0;34m\u001b[0m\u001b[0m\n\u001b[0m\u001b[1;32m      7\u001b[0m     \u001b[0mdropout_result\u001b[0m\u001b[0;34m[\u001b[0m\u001b[0md\u001b[0m\u001b[0;34m]\u001b[0m \u001b[0;34m=\u001b[0m \u001b[0mtestScore\u001b[0m\u001b[0;34m\u001b[0m\u001b[0m\n",
      "\u001b[0;32m<ipython-input-23-701561477536>\u001b[0m in \u001b[0;36mquick_measure\u001b[0;34m(stock_name, seq_len, d, shape, neurons, epochs)\u001b[0m\n\u001b[1;32m      3\u001b[0m     \u001b[0mX_train\u001b[0m\u001b[0;34m,\u001b[0m \u001b[0my_train\u001b[0m\u001b[0;34m,\u001b[0m \u001b[0mX_test\u001b[0m\u001b[0;34m,\u001b[0m \u001b[0my_test\u001b[0m \u001b[0;34m=\u001b[0m \u001b[0mload_data\u001b[0m\u001b[0;34m(\u001b[0m\u001b[0mdf\u001b[0m\u001b[0;34m,\u001b[0m \u001b[0mseq_len\u001b[0m\u001b[0;34m)\u001b[0m\u001b[0;34m\u001b[0m\u001b[0m\n\u001b[1;32m      4\u001b[0m     \u001b[0mmodel\u001b[0m \u001b[0;34m=\u001b[0m \u001b[0mbuild_model2\u001b[0m\u001b[0;34m(\u001b[0m\u001b[0mshape\u001b[0m\u001b[0;34m,\u001b[0m \u001b[0mneurons\u001b[0m\u001b[0;34m,\u001b[0m \u001b[0md\u001b[0m\u001b[0;34m)\u001b[0m\u001b[0;34m\u001b[0m\u001b[0m\n\u001b[0;32m----> 5\u001b[0;31m     \u001b[0mmodel\u001b[0m\u001b[0;34m.\u001b[0m\u001b[0mfit\u001b[0m\u001b[0;34m(\u001b[0m\u001b[0mX_train\u001b[0m\u001b[0;34m,\u001b[0m \u001b[0my_train\u001b[0m\u001b[0;34m,\u001b[0m \u001b[0mbatch_size\u001b[0m\u001b[0;34m=\u001b[0m\u001b[0;36m512\u001b[0m\u001b[0;34m,\u001b[0m \u001b[0mepochs\u001b[0m\u001b[0;34m=\u001b[0m\u001b[0mepochs\u001b[0m\u001b[0;34m,\u001b[0m \u001b[0mvalidation_split\u001b[0m\u001b[0;34m=\u001b[0m\u001b[0;36m0.1\u001b[0m\u001b[0;34m,\u001b[0m \u001b[0mverbose\u001b[0m\u001b[0;34m=\u001b[0m\u001b[0;36m1\u001b[0m\u001b[0;34m)\u001b[0m\u001b[0;34m\u001b[0m\u001b[0m\n\u001b[0m\u001b[1;32m      6\u001b[0m     \u001b[0;31m# model.save('LSTM_Stock_prediction-20170429.h5')\u001b[0m\u001b[0;34m\u001b[0m\u001b[0;34m\u001b[0m\u001b[0m\n\u001b[1;32m      7\u001b[0m     \u001b[0mtrainScore\u001b[0m\u001b[0;34m,\u001b[0m \u001b[0mtestScore\u001b[0m \u001b[0;34m=\u001b[0m \u001b[0mmodel_score\u001b[0m\u001b[0;34m(\u001b[0m\u001b[0mmodel\u001b[0m\u001b[0;34m,\u001b[0m \u001b[0mX_train\u001b[0m\u001b[0;34m,\u001b[0m \u001b[0my_train\u001b[0m\u001b[0;34m,\u001b[0m \u001b[0mX_test\u001b[0m\u001b[0;34m,\u001b[0m \u001b[0my_test\u001b[0m\u001b[0;34m)\u001b[0m\u001b[0;34m\u001b[0m\u001b[0m\n",
      "\u001b[0;32m~/anaconda2/envs/py3/lib/python3.6/site-packages/keras/models.py\u001b[0m in \u001b[0;36mfit\u001b[0;34m(self, x, y, batch_size, epochs, verbose, callbacks, validation_split, validation_data, shuffle, class_weight, sample_weight, initial_epoch, **kwargs)\u001b[0m\n\u001b[1;32m    891\u001b[0m                               \u001b[0mclass_weight\u001b[0m\u001b[0;34m=\u001b[0m\u001b[0mclass_weight\u001b[0m\u001b[0;34m,\u001b[0m\u001b[0;34m\u001b[0m\u001b[0m\n\u001b[1;32m    892\u001b[0m                               \u001b[0msample_weight\u001b[0m\u001b[0;34m=\u001b[0m\u001b[0msample_weight\u001b[0m\u001b[0;34m,\u001b[0m\u001b[0;34m\u001b[0m\u001b[0m\n\u001b[0;32m--> 893\u001b[0;31m                               initial_epoch=initial_epoch)\n\u001b[0m\u001b[1;32m    894\u001b[0m \u001b[0;34m\u001b[0m\u001b[0m\n\u001b[1;32m    895\u001b[0m     def evaluate(self, x, y, batch_size=32, verbose=1,\n",
      "\u001b[0;32m~/anaconda2/envs/py3/lib/python3.6/site-packages/keras/engine/training.py\u001b[0m in \u001b[0;36mfit\u001b[0;34m(self, x, y, batch_size, epochs, verbose, callbacks, validation_split, validation_data, shuffle, class_weight, sample_weight, initial_epoch, steps_per_epoch, validation_steps, **kwargs)\u001b[0m\n\u001b[1;32m   1629\u001b[0m                               \u001b[0minitial_epoch\u001b[0m\u001b[0;34m=\u001b[0m\u001b[0minitial_epoch\u001b[0m\u001b[0;34m,\u001b[0m\u001b[0;34m\u001b[0m\u001b[0m\n\u001b[1;32m   1630\u001b[0m                               \u001b[0msteps_per_epoch\u001b[0m\u001b[0;34m=\u001b[0m\u001b[0msteps_per_epoch\u001b[0m\u001b[0;34m,\u001b[0m\u001b[0;34m\u001b[0m\u001b[0m\n\u001b[0;32m-> 1631\u001b[0;31m                               validation_steps=validation_steps)\n\u001b[0m\u001b[1;32m   1632\u001b[0m \u001b[0;34m\u001b[0m\u001b[0m\n\u001b[1;32m   1633\u001b[0m     def evaluate(self, x=None, y=None,\n",
      "\u001b[0;32m~/anaconda2/envs/py3/lib/python3.6/site-packages/keras/engine/training.py\u001b[0m in \u001b[0;36m_fit_loop\u001b[0;34m(self, f, ins, out_labels, batch_size, epochs, verbose, callbacks, val_f, val_ins, shuffle, callback_metrics, initial_epoch, steps_per_epoch, validation_steps)\u001b[0m\n\u001b[1;32m   1211\u001b[0m                     \u001b[0mbatch_logs\u001b[0m\u001b[0;34m[\u001b[0m\u001b[0;34m'size'\u001b[0m\u001b[0;34m]\u001b[0m \u001b[0;34m=\u001b[0m \u001b[0mlen\u001b[0m\u001b[0;34m(\u001b[0m\u001b[0mbatch_ids\u001b[0m\u001b[0;34m)\u001b[0m\u001b[0;34m\u001b[0m\u001b[0m\n\u001b[1;32m   1212\u001b[0m                     \u001b[0mcallbacks\u001b[0m\u001b[0;34m.\u001b[0m\u001b[0mon_batch_begin\u001b[0m\u001b[0;34m(\u001b[0m\u001b[0mbatch_index\u001b[0m\u001b[0;34m,\u001b[0m \u001b[0mbatch_logs\u001b[0m\u001b[0;34m)\u001b[0m\u001b[0;34m\u001b[0m\u001b[0m\n\u001b[0;32m-> 1213\u001b[0;31m                     \u001b[0mouts\u001b[0m \u001b[0;34m=\u001b[0m \u001b[0mf\u001b[0m\u001b[0;34m(\u001b[0m\u001b[0mins_batch\u001b[0m\u001b[0;34m)\u001b[0m\u001b[0;34m\u001b[0m\u001b[0m\n\u001b[0m\u001b[1;32m   1214\u001b[0m                     \u001b[0;32mif\u001b[0m \u001b[0;32mnot\u001b[0m \u001b[0misinstance\u001b[0m\u001b[0;34m(\u001b[0m\u001b[0mouts\u001b[0m\u001b[0;34m,\u001b[0m \u001b[0mlist\u001b[0m\u001b[0;34m)\u001b[0m\u001b[0;34m:\u001b[0m\u001b[0;34m\u001b[0m\u001b[0m\n\u001b[1;32m   1215\u001b[0m                         \u001b[0mouts\u001b[0m \u001b[0;34m=\u001b[0m \u001b[0;34m[\u001b[0m\u001b[0mouts\u001b[0m\u001b[0;34m]\u001b[0m\u001b[0;34m\u001b[0m\u001b[0m\n",
      "\u001b[0;32m~/anaconda2/envs/py3/lib/python3.6/site-packages/keras/backend/tensorflow_backend.py\u001b[0m in \u001b[0;36m__call__\u001b[0;34m(self, inputs)\u001b[0m\n\u001b[1;32m   2330\u001b[0m         updated = session.run(self.outputs + [self.updates_op],\n\u001b[1;32m   2331\u001b[0m                               \u001b[0mfeed_dict\u001b[0m\u001b[0;34m=\u001b[0m\u001b[0mfeed_dict\u001b[0m\u001b[0;34m,\u001b[0m\u001b[0;34m\u001b[0m\u001b[0m\n\u001b[0;32m-> 2332\u001b[0;31m                               **self.session_kwargs)\n\u001b[0m\u001b[1;32m   2333\u001b[0m         \u001b[0;32mreturn\u001b[0m \u001b[0mupdated\u001b[0m\u001b[0;34m[\u001b[0m\u001b[0;34m:\u001b[0m\u001b[0mlen\u001b[0m\u001b[0;34m(\u001b[0m\u001b[0mself\u001b[0m\u001b[0;34m.\u001b[0m\u001b[0moutputs\u001b[0m\u001b[0;34m)\u001b[0m\u001b[0;34m]\u001b[0m\u001b[0;34m\u001b[0m\u001b[0m\n\u001b[1;32m   2334\u001b[0m \u001b[0;34m\u001b[0m\u001b[0m\n",
      "\u001b[0;32m~/anaconda2/envs/py3/lib/python3.6/site-packages/tensorflow/python/client/session.py\u001b[0m in \u001b[0;36mrun\u001b[0;34m(self, fetches, feed_dict, options, run_metadata)\u001b[0m\n\u001b[1;32m    765\u001b[0m     \u001b[0;32mtry\u001b[0m\u001b[0;34m:\u001b[0m\u001b[0;34m\u001b[0m\u001b[0m\n\u001b[1;32m    766\u001b[0m       result = self._run(None, fetches, feed_dict, options_ptr,\n\u001b[0;32m--> 767\u001b[0;31m                          run_metadata_ptr)\n\u001b[0m\u001b[1;32m    768\u001b[0m       \u001b[0;32mif\u001b[0m \u001b[0mrun_metadata\u001b[0m\u001b[0;34m:\u001b[0m\u001b[0;34m\u001b[0m\u001b[0m\n\u001b[1;32m    769\u001b[0m         \u001b[0mproto_data\u001b[0m \u001b[0;34m=\u001b[0m \u001b[0mtf_session\u001b[0m\u001b[0;34m.\u001b[0m\u001b[0mTF_GetBuffer\u001b[0m\u001b[0;34m(\u001b[0m\u001b[0mrun_metadata_ptr\u001b[0m\u001b[0;34m)\u001b[0m\u001b[0;34m\u001b[0m\u001b[0m\n",
      "\u001b[0;32m~/anaconda2/envs/py3/lib/python3.6/site-packages/tensorflow/python/client/session.py\u001b[0m in \u001b[0;36m_run\u001b[0;34m(self, handle, fetches, feed_dict, options, run_metadata)\u001b[0m\n\u001b[1;32m    963\u001b[0m     \u001b[0;32mif\u001b[0m \u001b[0mfinal_fetches\u001b[0m \u001b[0;32mor\u001b[0m \u001b[0mfinal_targets\u001b[0m\u001b[0;34m:\u001b[0m\u001b[0;34m\u001b[0m\u001b[0m\n\u001b[1;32m    964\u001b[0m       results = self._do_run(handle, final_targets, final_fetches,\n\u001b[0;32m--> 965\u001b[0;31m                              feed_dict_string, options, run_metadata)\n\u001b[0m\u001b[1;32m    966\u001b[0m     \u001b[0;32melse\u001b[0m\u001b[0;34m:\u001b[0m\u001b[0;34m\u001b[0m\u001b[0m\n\u001b[1;32m    967\u001b[0m       \u001b[0mresults\u001b[0m \u001b[0;34m=\u001b[0m \u001b[0;34m[\u001b[0m\u001b[0;34m]\u001b[0m\u001b[0;34m\u001b[0m\u001b[0m\n",
      "\u001b[0;32m~/anaconda2/envs/py3/lib/python3.6/site-packages/tensorflow/python/client/session.py\u001b[0m in \u001b[0;36m_do_run\u001b[0;34m(self, handle, target_list, fetch_list, feed_dict, options, run_metadata)\u001b[0m\n\u001b[1;32m   1013\u001b[0m     \u001b[0;32mif\u001b[0m \u001b[0mhandle\u001b[0m \u001b[0;32mis\u001b[0m \u001b[0;32mNone\u001b[0m\u001b[0;34m:\u001b[0m\u001b[0;34m\u001b[0m\u001b[0m\n\u001b[1;32m   1014\u001b[0m       return self._do_call(_run_fn, self._session, feed_dict, fetch_list,\n\u001b[0;32m-> 1015\u001b[0;31m                            target_list, options, run_metadata)\n\u001b[0m\u001b[1;32m   1016\u001b[0m     \u001b[0;32melse\u001b[0m\u001b[0;34m:\u001b[0m\u001b[0;34m\u001b[0m\u001b[0m\n\u001b[1;32m   1017\u001b[0m       return self._do_call(_prun_fn, self._session, handle, feed_dict,\n",
      "\u001b[0;32m~/anaconda2/envs/py3/lib/python3.6/site-packages/tensorflow/python/client/session.py\u001b[0m in \u001b[0;36m_do_call\u001b[0;34m(self, fn, *args)\u001b[0m\n\u001b[1;32m   1020\u001b[0m   \u001b[0;32mdef\u001b[0m \u001b[0m_do_call\u001b[0m\u001b[0;34m(\u001b[0m\u001b[0mself\u001b[0m\u001b[0;34m,\u001b[0m \u001b[0mfn\u001b[0m\u001b[0;34m,\u001b[0m \u001b[0;34m*\u001b[0m\u001b[0margs\u001b[0m\u001b[0;34m)\u001b[0m\u001b[0;34m:\u001b[0m\u001b[0;34m\u001b[0m\u001b[0m\n\u001b[1;32m   1021\u001b[0m     \u001b[0;32mtry\u001b[0m\u001b[0;34m:\u001b[0m\u001b[0;34m\u001b[0m\u001b[0m\n\u001b[0;32m-> 1022\u001b[0;31m       \u001b[0;32mreturn\u001b[0m \u001b[0mfn\u001b[0m\u001b[0;34m(\u001b[0m\u001b[0;34m*\u001b[0m\u001b[0margs\u001b[0m\u001b[0;34m)\u001b[0m\u001b[0;34m\u001b[0m\u001b[0m\n\u001b[0m\u001b[1;32m   1023\u001b[0m     \u001b[0;32mexcept\u001b[0m \u001b[0merrors\u001b[0m\u001b[0;34m.\u001b[0m\u001b[0mOpError\u001b[0m \u001b[0;32mas\u001b[0m \u001b[0me\u001b[0m\u001b[0;34m:\u001b[0m\u001b[0;34m\u001b[0m\u001b[0m\n\u001b[1;32m   1024\u001b[0m       \u001b[0mmessage\u001b[0m \u001b[0;34m=\u001b[0m \u001b[0mcompat\u001b[0m\u001b[0;34m.\u001b[0m\u001b[0mas_text\u001b[0m\u001b[0;34m(\u001b[0m\u001b[0me\u001b[0m\u001b[0;34m.\u001b[0m\u001b[0mmessage\u001b[0m\u001b[0;34m)\u001b[0m\u001b[0;34m\u001b[0m\u001b[0m\n",
      "\u001b[0;32m~/anaconda2/envs/py3/lib/python3.6/site-packages/tensorflow/python/client/session.py\u001b[0m in \u001b[0;36m_run_fn\u001b[0;34m(session, feed_dict, fetch_list, target_list, options, run_metadata)\u001b[0m\n\u001b[1;32m   1002\u001b[0m         return tf_session.TF_Run(session, options,\n\u001b[1;32m   1003\u001b[0m                                  \u001b[0mfeed_dict\u001b[0m\u001b[0;34m,\u001b[0m \u001b[0mfetch_list\u001b[0m\u001b[0;34m,\u001b[0m \u001b[0mtarget_list\u001b[0m\u001b[0;34m,\u001b[0m\u001b[0;34m\u001b[0m\u001b[0m\n\u001b[0;32m-> 1004\u001b[0;31m                                  status, run_metadata)\n\u001b[0m\u001b[1;32m   1005\u001b[0m \u001b[0;34m\u001b[0m\u001b[0m\n\u001b[1;32m   1006\u001b[0m     \u001b[0;32mdef\u001b[0m \u001b[0m_prun_fn\u001b[0m\u001b[0;34m(\u001b[0m\u001b[0msession\u001b[0m\u001b[0;34m,\u001b[0m \u001b[0mhandle\u001b[0m\u001b[0;34m,\u001b[0m \u001b[0mfeed_dict\u001b[0m\u001b[0;34m,\u001b[0m \u001b[0mfetch_list\u001b[0m\u001b[0;34m)\u001b[0m\u001b[0;34m:\u001b[0m\u001b[0;34m\u001b[0m\u001b[0m\n",
      "\u001b[0;31mKeyboardInterrupt\u001b[0m: "
     ]
    }
   ],
   "source": [
    "dlist = [0.2, 0.3, 0.4, 0.5, 0.6, 0.7, 0.8]\n",
    "neurons_LSTM = [32, 64, 128, 256, 512, 1024, 2048]\n",
    "dropout_result = {}\n",
    "\n",
    "for d in dlist:    \n",
    "    trainScore, testScore = quick_measure(stock_name, seq_len, d, shape, neurons, epochs)\n",
    "    dropout_result[d] = testScore"
   ]
  },
  {
   "cell_type": "code",
   "execution_count": null,
   "metadata": {},
   "outputs": [],
   "source": [
    "min_val = min(dropout_result.values())\n",
    "min_val_key = [k for k, v in dropout_result.items() if v == min_val]\n",
    "print (dropout_result)\n",
    "print (min_val_key)"
   ]
  },
  {
   "cell_type": "code",
   "execution_count": null,
   "metadata": {},
   "outputs": [],
   "source": [
    "lists = sorted(dropout_result.items())\n",
    "x,y = zip(*lists)\n",
    "plt.plot(x,y)\n",
    "plt.title('Finding the best hyperparameter')\n",
    "plt.xlabel('Dropout')\n",
    "plt.ylabel('Mean Square Error')\n",
    "plt.show()"
   ]
  },
  {
   "cell_type": "markdown",
   "metadata": {},
   "source": [
    "12.2 Optimial epochs value"
   ]
  },
  {
   "cell_type": "code",
   "execution_count": null,
   "metadata": {},
   "outputs": [],
   "source": [
    "stock_name = '^GSPC'\n",
    "seq_len = 22\n",
    "shape = [4, seq_len, 1] # feature, window, output\n",
    "neurons = [128, 128, 32, 1]\n",
    "epochslist = [10,20,30,40,50,60,70,80,90,100]"
   ]
  },
  {
   "cell_type": "code",
   "execution_count": null,
   "metadata": {},
   "outputs": [],
   "source": [
    "epochs_result = {}\n",
    "\n",
    "for epochs in epochslist:    \n",
    "    trainScore, testScore = quick_measure(stock_name, seq_len, d, shape, neurons, epochs)\n",
    "    epochs_result[epochs] = testScore"
   ]
  },
  {
   "cell_type": "code",
   "execution_count": null,
   "metadata": {},
   "outputs": [],
   "source": [
    "lists = sorted(epochs_result.items())\n",
    "x,y = zip(*lists)\n",
    "plt.plot(x,y)\n",
    "plt.title('Finding the best hyperparameter')\n",
    "plt.xlabel('Epochs')\n",
    "plt.ylabel('Mean Square Error')\n",
    "plt.show()"
   ]
  },
  {
   "cell_type": "markdown",
   "metadata": {},
   "source": [
    "12.3 Optimal number of neurons"
   ]
  },
  {
   "cell_type": "code",
   "execution_count": null,
   "metadata": {},
   "outputs": [],
   "source": [
    "stock_name = '^GSPC'\n",
    "seq_len = 22\n",
    "shape = [4, seq_len, 1] # feature, window, output\n",
    "epochs = 90\n",
    "dropout = 0.3\n",
    "neuronlist1 = [32, 64, 128, 256, 512]\n",
    "neuronlist2 = [16, 32, 64]\n",
    "neurons_result = {}\n",
    "\n",
    "for neuron_lstm in neuronlist1:\n",
    "    neurons = [neuron_lstm, neuron_lstm]\n",
    "    for activation in neuronlist2:\n",
    "        neurons.append(activation)\n",
    "        neurons.append(1)\n",
    "        trainScore, testScore = quick_measure(stock_name, seq_len, d, shape, neurons, epochs)\n",
    "        neurons_result[str(neurons)] = testScore\n",
    "        neurons = neurons[:2]    "
   ]
  },
  {
   "cell_type": "code",
   "execution_count": null,
   "metadata": {},
   "outputs": [],
   "source": [
    "lists = sorted(neurons_result.items())\n",
    "x,y = zip(*lists)\n",
    "\n",
    "plt.title('Finding the best hyperparameter')\n",
    "plt.xlabel('neurons')\n",
    "plt.ylabel('Mean Square Error')\n",
    "\n",
    "plt.bar(range(len(lists)), y, align='center')\n",
    "plt.xticks(range(len(lists)), x)\n",
    "plt.xticks(rotation=90)\n",
    "\n",
    "plt.show()"
   ]
  },
  {
   "cell_type": "markdown",
   "metadata": {
    "collapsed": true
   },
   "source": [
    "12.4 Optimial Dropout value"
   ]
  },
  {
   "cell_type": "code",
   "execution_count": null,
   "metadata": {},
   "outputs": [],
   "source": [
    "stock_name = '^GSPC'\n",
    "seq_len = 22\n",
    "shape = [4, seq_len, 1] # feature, window, output\n",
    "neurons = [256, 256, 32, 1]\n",
    "epochs = 90\n",
    "decaylist = [0.1, 0.2, 0.3, 0.4, 0.5, 0.6, 0.7, 0.8, 0.9]"
   ]
  },
  {
   "cell_type": "code",
   "execution_count": null,
   "metadata": {},
   "outputs": [],
   "source": [
    "def build_model3(layers, neurons, d, decay):\n",
    "    model = Sequential()\n",
    "    \n",
    "    model.add(LSTM(neurons[0], input_shape=(layers[1], layers[0]), return_sequences=True))\n",
    "    model.add(Dropout(d))\n",
    "        \n",
    "    model.add(LSTM(neurons[1], input_shape=(layers[1], layers[0]), return_sequences=False))\n",
    "    model.add(Dropout(d))\n",
    "        \n",
    "    model.add(Dense(neurons[2],kernel_initializer=\"uniform\",activation='relu'))        \n",
    "    model.add(Dense(neurons[3],kernel_initializer=\"uniform\",activation='linear'))\n",
    "    # model = load_model('my_LSTM_stock_model1000.h5')\n",
    "    adam = keras.optimizers.Adam(decay=decay)\n",
    "    model.compile(loss='mse',optimizer='adam', metrics=['accuracy'])\n",
    "    model.summary()\n",
    "    return model"
   ]
  },
  {
   "cell_type": "code",
   "execution_count": null,
   "metadata": {},
   "outputs": [],
   "source": [
    "def quick_measure(stock_name, seq_len, d, shape, neurons, epochs, decay):\n",
    "    df = get_stock_data(stock_name)\n",
    "    X_train, y_train, X_test, y_test = load_data(df, seq_len)\n",
    "    model = build_model3(shape, neurons, d, decay)\n",
    "    model.fit(X_train, y_train, batch_size=512, epochs=epochs, validation_split=0.1, verbose=1)\n",
    "    # model.save('LSTM_Stock_prediction-20170429.h5')\n",
    "    trainScore, testScore = model_score(model, X_train, y_train, X_test, y_test)\n",
    "    return trainScore, testScore"
   ]
  },
  {
   "cell_type": "code",
   "execution_count": null,
   "metadata": {},
   "outputs": [],
   "source": [
    "decay_result = {}\n",
    "\n",
    "for decay in decaylist:    \n",
    "    trainScore, testScore = quick_measure(stock_name, seq_len, d, shape, neurons, epochs, decay)\n",
    "    decay_result[decay] = testScore"
   ]
  },
  {
   "cell_type": "code",
   "execution_count": null,
   "metadata": {},
   "outputs": [],
   "source": [
    "lists = sorted(decay_result.items())\n",
    "x,y = zip(*lists)\n",
    "plt.plot(x,y)\n",
    "plt.title('Finding the best hyperparameter')\n",
    "plt.xlabel('Decay')\n",
    "plt.ylabel('Mean Square Error')\n",
    "plt.show()"
   ]
  },
  {
   "cell_type": "code",
   "execution_count": null,
   "metadata": {},
   "outputs": [],
   "source": [
    "stock_name = '^GSPC'\n",
    "neurons = [256, 256, 32, 1]\n",
    "epochs = 90\n",
    "d = 0.3 #dropout\n",
    "decay = 0.4"
   ]
  },
  {
   "cell_type": "code",
   "execution_count": null,
   "metadata": {},
   "outputs": [],
   "source": [
    "seq_len_list = [5, 10, 22, 60, 120, 180]\n",
    "\n",
    "seq_len_result = {}\n",
    "\n",
    "for seq_len in seq_len_list:\n",
    "    shape = [4, seq_len, 1]\n",
    "    \n",
    "    trainScore, testScore = quick_measure(stock_name, seq_len, d, shape, neurons, epochs, decay)\n",
    "    seq_len_result[seq_len] = testScore"
   ]
  },
  {
   "cell_type": "code",
   "execution_count": null,
   "metadata": {},
   "outputs": [],
   "source": [
    "lists = sorted(seq_len_result.items())\n",
    "x,y = zip(*lists)\n",
    "plt.plot(x,y)\n",
    "plt.title('Finding the best hyperparameter')\n",
    "plt.xlabel('Days')\n",
    "plt.ylabel('Mean Square Error')\n",
    "plt.show()"
   ]
  }
 ],
 "metadata": {
  "kernelspec": {
   "display_name": "Python 3",
   "language": "python",
   "name": "python3"
  },
  "language_info": {
   "codemirror_mode": {
    "name": "ipython",
    "version": 3
   },
   "file_extension": ".py",
   "mimetype": "text/x-python",
   "name": "python",
   "nbconvert_exporter": "python",
   "pygments_lexer": "ipython3",
   "version": "3.6.3"
  }
 },
 "nbformat": 4,
 "nbformat_minor": 2
}
