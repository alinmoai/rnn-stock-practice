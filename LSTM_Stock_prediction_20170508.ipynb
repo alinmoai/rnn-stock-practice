{
 "cells": [
  {
   "cell_type": "markdown",
   "metadata": {},
   "source": [
    "# Stock value prediction from Open, High, Low"
   ]
  },
  {
   "cell_type": "markdown",
   "metadata": {
    "collapsed": true
   },
   "source": [
    "# Import module"
   ]
  },
  {
   "cell_type": "code",
   "execution_count": 1,
   "metadata": {},
   "outputs": [
    {
     "name": "stderr",
     "output_type": "stream",
     "text": [
      "Using TensorFlow backend.\n"
     ]
    }
   ],
   "source": [
    "import numpy as np\n",
    "import matplotlib.pyplot as plt\n",
    "import matplotlib.pyplot as plt2\n",
    "import pandas as pd\n",
    "from pandas import datetime\n",
    "from pandas import DataFrame\n",
    "from pandas import concat\n",
    "import math, time\n",
    "import itertools\n",
    "from sklearn import preprocessing\n",
    "import datetime\n",
    "from sklearn.metrics import mean_squared_error\n",
    "from math import sqrt\n",
    "from keras.models import Sequential\n",
    "from keras.layers.core import Dense, Dropout, Activation\n",
    "from keras.layers.recurrent import LSTM\n",
    "from keras.models import load_model\n",
    "import keras\n",
    "import pandas_datareader.data as web\n",
    "import h5py\n",
    "import os\n",
    "import keras.backend as K\n",
    "from keras.utils.generic_utils import get_custom_objects\n",
    "\n",
    "from collections import deque\n",
    "from io import StringIO"
   ]
  },
  {
   "cell_type": "markdown",
   "metadata": {},
   "source": [
    "# Input parameters "
   ]
  },
  {
   "cell_type": "code",
   "execution_count": 2,
   "metadata": {},
   "outputs": [],
   "source": [
    "stock_name = '^GSPC'\n",
    "seq_len = 22\n",
    "d = 0.2\n",
    "shape = [4, seq_len, 1] # feature, window, output\n",
    "neurons = [128, 128, 32, 1]\n",
    "epochs = 200\n",
    "\n",
    "neurons_layer = 1\n",
    "optimizer = 'Adam'\n",
    "loss = 'mse'\n",
    "action = 'predict'\n",
    "# loss = 'risk_estimation'"
   ]
  },
  {
   "cell_type": "markdown",
   "metadata": {
    "collapsed": true
   },
   "source": [
    "# 1. Download data and normalize it\n",
    "Data since date 'start' to today"
   ]
  },
  {
   "cell_type": "code",
   "execution_count": 3,
   "metadata": {},
   "outputs": [],
   "source": [
    "def normalize_df(df):\n",
    "    yesterday_value = pd.concat([df[:1], df[:len(df)-1]], ignore_index=True)\n",
    "    df = pd.concat([df[:]], ignore_index=True)\n",
    "    df = df / yesterday_value\n",
    "    return df\n",
    "\n",
    "def denormalize(origin_value, normalized_p):\n",
    "    yesterday_value = np.concatenate((origin_value[:1], origin_value[:len(origin_value)-1]))\n",
    "    normalized_value = normalized_p * yesterday_value\n",
    "    return normalized_value"
   ]
  },
  {
   "cell_type": "code",
   "execution_count": 4,
   "metadata": {},
   "outputs": [],
   "source": [
    "import dateutil.parser\n",
    "\n",
    "def get_data_last_updated_date(stock_name):\n",
    "    data_path = 'data/' + stock_name\n",
    "    if os.path.exists(data_path):\n",
    "        with open(data_path, 'r') as f:\n",
    "            last_day_string = deque(f, 1).pop().split(\",\")[0]\n",
    "            start = datetime.datetime.strptime(last_day_string, '%Y-%m-%d') + datetime.timedelta(days=1)\n",
    "            start = start.date()\n",
    "            return start\n",
    "    else:\n",
    "        return datetime.datetime(2013, 1, 1).date()\n",
    "\n",
    "def update_stock_data(stock_name):\n",
    "    start = get_data_last_updated_date(stock_name)\n",
    "    end = datetime.date.today()\n",
    "    data_path = 'data/' + stock_name\n",
    "    \n",
    "    if os.path.exists(data_path):\n",
    "        with open(data_path, 'r') as f:\n",
    "            last_day_string = deque(f, 1).pop().split(\",\")[0]\n",
    "            start = datetime.datetime.strptime(last_day_string, '%Y-%m-%d')\n",
    "            start = start.date()\n",
    "\n",
    "    if start > datetime.date.today():\n",
    "        print ('stock data already latest')\n",
    "        return\n",
    "    else:\n",
    "        try:\n",
    "            df = web.DataReader(stock_name, \"yahoo\", start)\n",
    "        except:\n",
    "            print('retrying data from yahoo...')\n",
    "            update_stock_data(stock_name)\n",
    "            return\n",
    "        \n",
    "        if os.path.exists(data_path):\n",
    "            with open(data_path, 'a') as f:\n",
    "#                 print('df = ',df, 'start = ', start)\n",
    "                mask = df.index > str(start)\n",
    "                df = df[mask]\n",
    "                df.to_csv(f, header=False)\n",
    "                print ('stock data appended')\n",
    "        else:\n",
    "            df.to_csv(data_path)\n",
    "            print ('stock data create')\n",
    "        \n",
    "                \n",
    "def get_stock_data(stock_name, drop_unuse_column=True):\n",
    "    data_path = 'data/' + stock_name\n",
    "    df = pd.read_csv(os.path.join(data_path))\n",
    "    if drop_unuse_column:\n",
    "        df.drop(['Volume', 'Close', 'Date'], 1, inplace=True)\n",
    "    return df"
   ]
  },
  {
   "cell_type": "code",
   "execution_count": 5,
   "metadata": {},
   "outputs": [
    {
     "name": "stdout",
     "output_type": "stream",
     "text": [
      "stock data appended\n"
     ]
    }
   ],
   "source": [
    "update_stock_data(stock_name)\n",
    "origin_df = get_stock_data(stock_name)\n",
    "df = normalize_df(origin_df)"
   ]
  },
  {
   "cell_type": "markdown",
   "metadata": {},
   "source": [
    "# 2. Plot out the Normalized Adjusted close price"
   ]
  },
  {
   "cell_type": "code",
   "execution_count": 6,
   "metadata": {},
   "outputs": [],
   "source": [
    "def plot_stock(df):\n",
    "    print(df.head())\n",
    "    plt.plot(df['Adj Close'], color='red', label='Adj Close')\n",
    "    plt.legend(loc='best')\n",
    "    plt.show()"
   ]
  },
  {
   "cell_type": "code",
   "execution_count": 7,
   "metadata": {},
   "outputs": [
    {
     "name": "stdout",
     "output_type": "stream",
     "text": [
      "          Open         High          Low    Adj Close\n",
      "0  1402.430054  1426.739990  1398.109985  1426.189941\n",
      "1  1426.189941  1462.430054  1426.189941  1462.420044\n",
      "2  1462.420044  1465.469971  1455.530029  1459.369995\n",
      "3  1459.369995  1467.939941  1458.989990  1466.469971\n",
      "4  1466.469971  1466.469971  1456.619995  1461.890015\n"
     ]
    },
    {
     "data": {
      "image/png": "[encoded data removed]",
      "text/plain": [
       "<matplotlib.figure.Figure at 0x1a16ca31d0>"
      ]
     },
     "metadata": {},
     "output_type": "display_data"
    },
    {
     "name": "stdout",
     "output_type": "stream",
     "text": [
      "       Open      High       Low  Adj Close\n",
      "0  1.000000  1.000000  1.000000   1.000000\n",
      "1  1.016942  1.025015  1.020084   1.025403\n",
      "2  1.025403  1.002079  1.020572   0.997914\n",
      "3  0.997914  1.001685  1.002377   1.004865\n",
      "4  1.004865  0.998999  0.998376   0.996877\n"
     ]
    },
    {
     "data": {
      "image/png": "[encoded data removed]",
      "text/plain": [
       "<matplotlib.figure.Figure at 0x1a18219fd0>"
      ]
     },
     "metadata": {},
     "output_type": "display_data"
    },
    {
     "name": "stdout",
     "output_type": "stream",
     "text": [
      "          Open         High          Low    Adj Close\n",
      "0  1402.430054  1426.739990  1398.109985  1426.189941\n",
      "1  1426.189941  1462.430054  1426.189941  1462.420044\n",
      "2  1462.420044  1465.469971  1455.530029  1459.369995\n",
      "3  1459.369995  1467.939941  1458.989990  1466.469971\n",
      "4  1466.469971  1466.469971  1456.619995  1461.890015\n"
     ]
    },
    {
     "data": {
      "image/png": "[encoded data removed]",
      "text/plain": [
       "<matplotlib.figure.Figure at 0x107ce0908>"
      ]
     },
     "metadata": {},
     "output_type": "display_data"
    }
   ],
   "source": [
    "plot_stock(origin_df)\n",
    "plot_stock(df)\n",
    "plot_stock(denormalize(origin_df,df))"
   ]
  },
  {
   "cell_type": "markdown",
   "metadata": {},
   "source": [
    "# 3. Slice data for training"
   ]
  },
  {
   "cell_type": "code",
   "execution_count": 8,
   "metadata": {},
   "outputs": [],
   "source": [
    "def get_lstm_data(df, seq_len):\n",
    "    amount_of_features = len(df.columns)\n",
    "    data = df.as_matrix() \n",
    "    sequence_length = seq_len # index starting from 0\n",
    "    result = []\n",
    "    \n",
    "    for index in range(len(data) - sequence_length + 1): # maxmimum date = lastest date - sequence length + 1\n",
    "        result.append(data[index: index + sequence_length]) # index : index + 22days\n",
    "        \n",
    "    result = np.array(result)\n",
    "    return result\n",
    "\n",
    "def load_data(df, seq_len):\n",
    "    amount_of_features = len(df.columns)\n",
    "    result = get_lstm_data(df, seq_len)\n",
    "    row = round(0.9 * result.shape[0]) # 90% split\n",
    "    \n",
    "    X_train = result[:int(row), :] # 90% date\n",
    "    y_train = result[1:int(row) + 1, :, -1][:,-1] # day m + 1 adjusted close price\n",
    "    \n",
    "    X_test = result[int(row): -1 , :]\n",
    "    y_test = result[int(row) + 1: , -1][:,-1] \n",
    "    \n",
    "    X_train = np.reshape(X_train, (X_train.shape[0], X_train.shape[1], amount_of_features))\n",
    "    X_test = np.reshape(X_test, (X_test.shape[0], X_test.shape[1], amount_of_features))\n",
    "    \n",
    "    return [X_train, y_train, X_test, y_test]"
   ]
  },
  {
   "cell_type": "code",
   "execution_count": 9,
   "metadata": {},
   "outputs": [
    {
     "name": "stdout",
     "output_type": "stream",
     "text": [
      "1130 22 4\n",
      "1130\n"
     ]
    }
   ],
   "source": [
    "X_train, y_train, X_test, y_test = load_data(df, seq_len)\n",
    "origin_X_Train, origin_y_Train, origin_X_test, origin_y_test = load_data(origin_df, seq_len)\n",
    "\n",
    "print(X_train.shape[0], X_train.shape[1], X_train.shape[2])\n",
    "print(y_train.shape[0])"
   ]
  },
  {
   "cell_type": "markdown",
   "metadata": {
    "collapsed": true
   },
   "source": [
    "# 4. Buidling neural network"
   ]
  },
  {
   "cell_type": "code",
   "execution_count": 10,
   "metadata": {},
   "outputs": [],
   "source": [
    "def build_model2(layers, neurons, d):\n",
    "    model = Sequential()\n",
    "    \n",
    "    for i in range(neurons_layer):\n",
    "        model.add(LSTM(neurons[0], input_shape=(layers[1], layers[0]), return_sequences=True))\n",
    "        model.add(Dropout(d))\n",
    "\n",
    "    model.add(LSTM(neurons[1], input_shape=(layers[1], layers[0]), return_sequences=False))\n",
    "    model.add(Dropout(d))\n",
    "        \n",
    "    model.add(Dense(neurons[2],kernel_initializer=\"uniform\",activation='relu'))        \n",
    "    model.add(Dense(neurons[3],kernel_initializer=\"uniform\",activation='linear'))\n",
    "    model.compile(loss=loss, optimizer=optimizer, metrics=['accuracy'])\n",
    "    model.summary()\n",
    "    return model"
   ]
  },
  {
   "cell_type": "markdown",
   "metadata": {},
   "source": [
    "# 5. Plot function"
   ]
  },
  {
   "cell_type": "code",
   "execution_count": 11,
   "metadata": {},
   "outputs": [],
   "source": [
    "def plot_value(stock_name, predict, actual, dir_name, file_name):\n",
    "    if not os.path.isdir(dir_name):\n",
    "        os.makedirs(dir_name)\n",
    "    \n",
    "    fig_path = dir_name + '/' + file_name\n",
    "    \n",
    "    plt2.plot(predict, color='red', label='Prediction')\n",
    "    plt2.plot(actual,color='blue', label='Actual')\n",
    "    plt2.legend(loc='best')\n",
    "    plt2.title('The test result for {}'.format(stock_name))\n",
    "    plt2.xlabel('Days')\n",
    "    plt2.ylabel('Adjusted Close')\n",
    "    plt2.savefig(fig_path, format='png', bbox_inches='tight', transparent=True)\n",
    "    plt2.close('all')"
   ]
  },
  {
   "cell_type": "code",
   "execution_count": 12,
   "metadata": {},
   "outputs": [],
   "source": [
    "# 損益計算、價錢預測\n",
    "def plot_result(stock_name, pred, test, epochs, date):\n",
    "    volumn_change_p = []\n",
    "    volumn_change_y_test = []\n",
    "    profit_p = []\n",
    "    profit_y_test = []\n",
    "    total_profit_p = []\n",
    "    total_profit_y_test = []\n",
    "    for i in range(len(pred)):\n",
    "        if i == 0:\n",
    "            volumn_change_p.append(0)\n",
    "            volumn_change_y_test.append(0)\n",
    "            \n",
    "            profit_p.append(0)\n",
    "            profit_y_test.append(0)\n",
    "            \n",
    "            total_profit_p.append(0)\n",
    "            total_profit_y_test.append(0)\n",
    "        else:\n",
    "            volumn_change_p.append(pred[i] - pred[i-1])\n",
    "            volumn_change_y_test.append(test[i] - test[i-1])\n",
    "\n",
    "            if pred[i] > pred[i-1]:\n",
    "                profit_p.append(test[i] - test[i - 1])\n",
    "            else:\n",
    "                profit_p.append(test[i - 1] - test[i])\n",
    "            \n",
    "            test_earn = abs(volumn_change_y_test[i] - volumn_change_y_test[i - 1])\n",
    "            profit_y_test.append(test_earn)\n",
    "            \n",
    "            total_profit_p.append(total_profit_p[i - 1] + profit_p[i])\n",
    "            total_profit_y_test.append(total_profit_y_test[i - 1] + profit_y_test[i])\n",
    "            \n",
    "    figname = stock_name + '_epochs' + str(epochs) + '.png'\n",
    "    \n",
    "    dir_prefix = str(neurons_layer) + 'layer_' + optimizer + stock_name\n",
    "    \n",
    "    \n",
    "    subdir = '/' +  date.strftime(\"%Y%m%d%H%M%S\") + '/' + 'price' \n",
    "    dir_name = dir_prefix + subdir\n",
    "    plot_value(stock_name, pred, test, dir_name, figname)\n",
    "    \n",
    "    subdir = '/' +  date.strftime(\"%Y%m%d%H%M%S\") + '/' + 'value_change'     \n",
    "    dir_name = dir_prefix + subdir\n",
    "    plot_value(stock_name, volumn_change_p, volumn_change_y_test, dir_name, figname)\n",
    "    \n",
    "    subdir = '/' +  date.strftime(\"%Y%m%d%H%M%S\") + '/' + 'profit' \n",
    "    dir_name = dir_prefix + subdir\n",
    "    plot_value(stock_name, profit_p, profit_y_test, dir_name, figname)\n",
    "    \n",
    "    subdir = '/' +  date.strftime(\"%Y%m%d%H%M%S\") + '/' + 'profit_sum' \n",
    "    dir_name = dir_prefix + subdir\n",
    "    plot_value(stock_name, total_profit_p, total_profit_y_test, dir_name, figname)\n",
    "    "
   ]
  },
  {
   "cell_type": "markdown",
   "metadata": {},
   "source": [
    "# 6. Start train or predict"
   ]
  },
  {
   "cell_type": "code",
   "execution_count": 13,
   "metadata": {},
   "outputs": [],
   "source": [
    "def get_last_predict_data_date(stock_name):\n",
    "    last_date_predicted = get_predicted_data(stock_name)['Date'].tail(1).values[0]\n",
    "    return last_date_predicted\n",
    "\n",
    "def save_predicted_data(stock_name, df):\n",
    "    dir_path = 'data/predicted/'\n",
    "    data_path = dir_path + stock_name + '.csv'\n",
    "    if os.path.exists(data_path):\n",
    "        with open(data_path, 'a') as f:\n",
    "            df = df[df.index > get_last_predict_data_date(stock_name)]\n",
    "            df.to_csv(f, header=False)\n",
    "            print ('predicted data appended')\n",
    "    else:\n",
    "        if not os.path.exists(dir_path):\n",
    "            os.mkdir(dir_path)\n",
    "        df.to_csv(data_path)\n",
    "        print ('predicted data create')\n",
    "    return\n",
    "\n",
    "def get_predicted_data(stock_name):\n",
    "    data_path = 'data/predicted/' + stock_name + '.csv'\n",
    "    df = None\n",
    "    if os.path.exists(data_path):\n",
    "        df = pd.read_csv(os.path.join(data_path))\n",
    "            \n",
    "    return df\n",
    "    \n",
    "def get_unpredict_data(stock_name):\n",
    "    stock_df = get_stock_data(stock_name,drop_unuse_column=False)\n",
    "    predicted_data = get_predicted_data(stock_name)\n",
    "    if predicted_data is not None:\n",
    "        data_to_pred_length = len(stock_df[stock_df['Date'] > get_last_predict_data_date(stock_name)])\n",
    "        stock_df = stock_df.tail(data_to_pred_length + seq_len - 1)\n",
    "    \n",
    "    data_to_lstm = stock_df.copy()\n",
    "    data_to_lstm.drop(['Volume', 'Close', 'Date'], 1, inplace=True)\n",
    "    lstm_data = get_lstm_data(data_to_lstm, seq_len)\n",
    "    return [lstm_data, stock_df[seq_len-1:]]"
   ]
  },
  {
   "cell_type": "code",
   "execution_count": 14,
   "metadata": {
    "scrolled": true
   },
   "outputs": [
    {
     "name": "stdout",
     "output_type": "stream",
     "text": [
      "predicted data create\n",
      "            tomorrow_rate_predicted  today_close  tomorrow_price_predicted  \\\n",
      "Date                                                                         \n",
      "2013-01-31                 0.977137  1498.109985               1463.858651   \n",
      "2013-02-01                 0.977137  1513.170044               1478.574391   \n",
      "2013-02-04                 0.977137  1495.709961               1461.513499   \n",
      "2013-02-05                 0.977137  1511.290039               1476.737369   \n",
      "2013-02-06                 0.977137  1512.119995               1477.548350   \n",
      "2013-02-07                 0.977137  1509.390015               1474.880785   \n",
      "2013-02-08                 0.977137  1517.930054               1483.225573   \n",
      "2013-02-11                 0.977137  1517.010010               1482.326564   \n",
      "2013-02-12                 0.977137  1519.430054               1484.691278   \n",
      "2013-02-13                 0.977137  1520.329956               1485.570606   \n",
      "2013-02-14                 0.977137  1521.380005               1486.596648   \n",
      "2013-02-15                 0.977137  1519.790039               1485.043033   \n",
      "2013-02-19                 0.977137  1530.939941               1495.938015   \n",
      "2013-02-20                 0.977137  1511.949951               1477.382193   \n",
      "2013-02-21                 0.977137  1502.420044               1468.070169   \n",
      "2013-02-22                 0.977137  1515.599976               1480.948768   \n",
      "2013-02-25                 0.977137  1487.849976               1453.833217   \n",
      "2013-02-26                 0.977137  1496.939941               1462.715358   \n",
      "2013-02-27                 0.977137  1515.989990               1481.329865   \n",
      "2013-02-28                 0.977137  1514.680054               1480.049878   \n",
      "2013-03-01                 0.977137  1518.199951               1483.489299   \n",
      "2013-03-04                 0.977137  1525.199951               1490.329258   \n",
      "2013-03-05                 0.977137  1539.790039               1504.585772   \n",
      "2013-03-06                 0.977137  1541.459961               1506.217515   \n",
      "2013-03-07                 0.977137  1544.260010               1508.953546   \n",
      "2013-03-08                 0.977137  1551.180054               1515.715377   \n",
      "2013-03-11                 0.977137  1556.219971               1520.640066   \n",
      "2013-03-12                 0.977137  1552.479980               1516.985583   \n",
      "2013-03-13                 0.977137  1554.520020               1518.978981   \n",
      "2013-03-14                 0.977137  1563.229980               1527.489805   \n",
      "...                             ...          ...                       ...   \n",
      "2017-12-12                 0.977137  2664.110107               2603.200477   \n",
      "2017-12-13                 0.977137  2662.850098               2601.969275   \n",
      "2017-12-14                 0.977137  2652.010010               2591.377024   \n",
      "2017-12-15                 0.977137  2675.810059               2614.632932   \n",
      "2017-12-18                 0.977137  2690.159912               2628.654704   \n",
      "2017-12-19                 0.977137  2681.469971               2620.163441   \n",
      "2017-12-20                 0.977137  2679.250000               2617.994226   \n",
      "2017-12-21                 0.977137  2684.570068               2623.192661   \n",
      "2017-12-22                 0.977137  2683.340088               2621.990802   \n",
      "2017-12-26                 0.977137  2680.500000               2619.215647   \n",
      "2017-12-27                 0.977137  2682.620117               2621.287292   \n",
      "2017-12-28                 0.977137  2687.540039               2626.094729   \n",
      "2017-12-29                 0.977137  2673.610107               2612.483278   \n",
      "2018-01-02                 0.977137  2695.810059               2634.175672   \n",
      "2018-01-03                 0.977137  2713.060059               2651.031284   \n",
      "2018-01-04                 0.977137  2723.989990               2661.711324   \n",
      "2018-01-05                 0.977137  2743.149902               2680.433182   \n",
      "2018-01-08                 0.977137  2747.709961               2684.888985   \n",
      "2018-01-09                 0.977137  2751.290039               2688.387211   \n",
      "2018-01-10                 0.977137  2748.229980               2685.397114   \n",
      "2018-01-11                 0.977137  2767.560059               2704.285249   \n",
      "2018-01-12                 0.977137  2786.239990               2722.538100   \n",
      "2018-01-16                 0.977137  2776.419922               2712.942549   \n",
      "2018-01-17                 0.977137  2802.560059               2738.485043   \n",
      "2018-01-18                 0.977137  2798.030029               2734.058583   \n",
      "2018-01-19                 0.977137  2810.300049               2746.048073   \n",
      "2018-01-22                 0.977137  2832.969971               2768.199692   \n",
      "2018-01-23                 0.977137  2839.129883               2774.218770   \n",
      "2018-01-24                 0.977137  2837.540039               2772.665275   \n",
      "2018-01-25                 0.977137  2839.250000               2774.336141   \n",
      "\n",
      "           create_date  \n",
      "Date                    \n",
      "2013-01-31  2018-01-26  \n",
      "2013-02-01  2018-01-26  \n",
      "2013-02-04  2018-01-26  \n",
      "2013-02-05  2018-01-26  \n",
      "2013-02-06  2018-01-26  \n",
      "2013-02-07  2018-01-26  \n",
      "2013-02-08  2018-01-26  \n",
      "2013-02-11  2018-01-26  \n",
      "2013-02-12  2018-01-26  \n",
      "2013-02-13  2018-01-26  \n",
      "2013-02-14  2018-01-26  \n",
      "2013-02-15  2018-01-26  \n",
      "2013-02-19  2018-01-26  \n",
      "2013-02-20  2018-01-26  \n",
      "2013-02-21  2018-01-26  \n",
      "2013-02-22  2018-01-26  \n",
      "2013-02-25  2018-01-26  \n",
      "2013-02-26  2018-01-26  \n",
      "2013-02-27  2018-01-26  \n",
      "2013-02-28  2018-01-26  \n",
      "2013-03-01  2018-01-26  \n",
      "2013-03-04  2018-01-26  \n",
      "2013-03-05  2018-01-26  \n",
      "2013-03-06  2018-01-26  \n",
      "2013-03-07  2018-01-26  \n",
      "2013-03-08  2018-01-26  \n",
      "2013-03-11  2018-01-26  \n",
      "2013-03-12  2018-01-26  \n",
      "2013-03-13  2018-01-26  \n",
      "2013-03-14  2018-01-26  \n",
      "...                ...  \n",
      "2017-12-12  2018-01-26  \n",
      "2017-12-13  2018-01-26  \n",
      "2017-12-14  2018-01-26  \n",
      "2017-12-15  2018-01-26  \n",
      "2017-12-18  2018-01-26  \n",
      "2017-12-19  2018-01-26  \n",
      "2017-12-20  2018-01-26  \n",
      "2017-12-21  2018-01-26  \n",
      "2017-12-22  2018-01-26  \n",
      "2017-12-26  2018-01-26  \n",
      "2017-12-27  2018-01-26  \n",
      "2017-12-28  2018-01-26  \n",
      "2017-12-29  2018-01-26  \n",
      "2018-01-02  2018-01-26  \n",
      "2018-01-03  2018-01-26  \n",
      "2018-01-04  2018-01-26  \n",
      "2018-01-05  2018-01-26  \n",
      "2018-01-08  2018-01-26  \n",
      "2018-01-09  2018-01-26  \n",
      "2018-01-10  2018-01-26  \n",
      "2018-01-11  2018-01-26  \n",
      "2018-01-12  2018-01-26  \n",
      "2018-01-16  2018-01-26  \n",
      "2018-01-17  2018-01-26  \n",
      "2018-01-18  2018-01-26  \n",
      "2018-01-19  2018-01-26  \n",
      "2018-01-22  2018-01-26  \n",
      "2018-01-23  2018-01-26  \n",
      "2018-01-24  2018-01-26  \n",
      "2018-01-25  2018-01-26  \n",
      "\n",
      "[1256 rows x 4 columns]\n",
      "new price predition append , file saved\n"
     ]
    }
   ],
   "source": [
    "run_date = datetime.datetime.now()\n",
    "if action == 'train':    \n",
    "    model = build_model2(shape, neurons, d)\n",
    "    save_plot_epochs = 25\n",
    "    for i in range(int(epochs / save_plot_epochs)):\n",
    "        model.fit(\n",
    "            X_train,\n",
    "            y_train,\n",
    "            batch_size=512,\n",
    "            epochs=save_plot_epochs,\n",
    "            validation_split=0.1,\n",
    "            verbose=1)\n",
    "        predict_y = model.predict(X_test).reshape(-1)\n",
    "        \n",
    "        denormalized_test = denormalize(origin_y_test, y_test)\n",
    "        denormalized_pred = denormalize(origin_y_test, predict_y)\n",
    "    \n",
    "        plot_result(stock_name, denormalized_pred, denormalized_test, save_plot_epochs * (i + 1), run_date)\n",
    "    model.save('LSTM_Stock_prediction.h5')\n",
    "elif action == 'predict':\n",
    "    model = load_model('LSTM_Stock_prediction.h5')\n",
    "    x_to_predict, df_to_predict = get_unpredict_data(stock_name)\n",
    "    \n",
    "    if len(x_to_predict) < 1:\n",
    "        print ('all price is already predicted , thread stop')\n",
    "    else:\n",
    "        predict_y_normalized = model.predict(x_to_predict).reshape(-1)        \n",
    "        result = pd.DataFrame(index=df_to_predict.Date)\n",
    "#         result['tomorrow_rate_predicted'] = predict_y_normalized\n",
    "        result['today_close'] = df_to_predict['Close'].values\n",
    "        result['tomorrow_price_predicted'] = result['tomorrow_rate_predicted'] * result['today_close']\n",
    "        result['create_date'] = str(run_date.date())\n",
    "        save_predicted_data(stock_name, result)\n",
    "        print('new price predition append , file saved')\n",
    "else:\n",
    "    print('use train or predict')"
   ]
  },
  {
   "cell_type": "code",
   "execution_count": 15,
   "metadata": {},
   "outputs": [],
   "source": [
    "# print(df_to_predict['Close'].values)"
   ]
  }
 ],
 "metadata": {
  "kernelspec": {
   "display_name": "Python 3",
   "language": "python",
   "name": "python3"
  },
  "language_info": {
   "codemirror_mode": {
    "name": "ipython",
    "version": 3
   },
   "file_extension": ".py",
   "mimetype": "text/x-python",
   "name": "python",
   "nbconvert_exporter": "python",
   "pygments_lexer": "ipython3",
   "version": "3.6.3"
  }
 },
 "nbformat": 4,
 "nbformat_minor": 2
}
